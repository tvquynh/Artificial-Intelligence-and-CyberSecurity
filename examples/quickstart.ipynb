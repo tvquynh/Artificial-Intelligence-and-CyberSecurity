{
  "nbformat": 4,
  "nbformat_minor": 0,
  "metadata": {
    "kernelspec": {
      "display_name": "Python 3",
      "language": "python",
      "name": "python3"
    },
    "language_info": {
      "codemirror_mode": {
        "name": "ipython",
        "version": 3
      },
      "file_extension": ".py",
      "mimetype": "text/x-python",
      "name": "python",
      "nbconvert_exporter": "python",
      "pygments_lexer": "ipython3",
      "version": "3.7.4"
    },
    "colab": {
      "name": "quickstart.ipynb",
      "provenance": []
    }
  },
  "cells": [
    {
      "cell_type": "markdown",
      "metadata": {
        "id": "SBSUzcXld6QK"
      },
      "source": [
        "# A Quick Introduction to Optuna\n",
        "\n",
        "This Jupyter notebook goes through the basic usage of Optuna.\n",
        "\n",
        "- Install Optuna\n",
        "- Write a training algorithm that involves hyperparameters\n",
        "  - Read train/valid data\n",
        "  - Define and train model\n",
        "  - Evaluate model\n",
        "- Use Optuna to tune the hyperparameters (hyperparameter optimization, HPO)\n",
        "- Visualize HPO"
      ]
    },
    {
      "cell_type": "markdown",
      "metadata": {
        "id": "yDrP3Etqd6QR"
      },
      "source": [
        "## Install `optuna`\n",
        "\n",
        "Optuna can be installed via `pip` or `conda`."
      ]
    },
    {
      "cell_type": "code",
      "metadata": {
        "id": "zRit1Wdad6QS",
        "outputId": "9ae2d629-6ed6-47cf-d38c-e20d595be038",
        "colab": {
          "base_uri": "https://localhost:8080/"
        }
      },
      "source": [
        "!pip install --quiet optuna"
      ],
      "execution_count": 1,
      "outputs": [
        {
          "output_type": "stream",
          "text": [
            "\u001b[K     |████████████████████████████████| 296kB 6.8MB/s \n",
            "\u001b[K     |████████████████████████████████| 1.2MB 9.7MB/s \n",
            "\u001b[K     |████████████████████████████████| 81kB 6.6MB/s \n",
            "\u001b[K     |████████████████████████████████| 81kB 7.1MB/s \n",
            "\u001b[K     |████████████████████████████████| 143kB 19.4MB/s \n",
            "\u001b[K     |████████████████████████████████| 112kB 20.7MB/s \n",
            "\u001b[K     |████████████████████████████████| 51kB 5.2MB/s \n",
            "\u001b[?25h  Building wheel for alembic (setup.py) ... \u001b[?25l\u001b[?25hdone\n",
            "  Building wheel for pyperclip (setup.py) ... \u001b[?25l\u001b[?25hdone\n"
          ],
          "name": "stdout"
        }
      ]
    },
    {
      "cell_type": "code",
      "metadata": {
        "id": "rtK9hqFPd6QT",
        "outputId": "e71c4541-08a0-4806-8ce2-017a969f2f68",
        "colab": {
          "base_uri": "https://localhost:8080/",
          "height": 35
        }
      },
      "source": [
        "import optuna\n",
        "\n",
        "optuna.__version__"
      ],
      "execution_count": 2,
      "outputs": [
        {
          "output_type": "execute_result",
          "data": {
            "application/vnd.google.colaboratory.intrinsic+json": {
              "type": "string"
            },
            "text/plain": [
              "'2.7.0'"
            ]
          },
          "metadata": {
            "tags": []
          },
          "execution_count": 2
        }
      ]
    },
    {
      "cell_type": "markdown",
      "metadata": {
        "id": "SB154QIHd6QT"
      },
      "source": [
        "## Optimize Hyperparameters\n",
        "\n",
        "### Define a simple scikit-learn model\n",
        "\n",
        "We start with a simple random forest model to classify flowers in the Iris dataset. We define a function called `objective` that encapsulates the whole training process and outputs the accuracy of the model."
      ]
    },
    {
      "cell_type": "code",
      "metadata": {
        "id": "hw6EC0XAd6QU",
        "outputId": "97122338-4183-4259-eba4-7320056e5fb3",
        "colab": {
          "base_uri": "https://localhost:8080/"
        }
      },
      "source": [
        "import sklearn.datasets\n",
        "import sklearn.ensemble\n",
        "import sklearn.model_selection\n",
        "\n",
        "def objective():\n",
        "    iris = sklearn.datasets.load_iris()  # Prepare the data.\n",
        "    \n",
        "    clf = sklearn.ensemble.RandomForestClassifier(    \n",
        "        n_estimators=5, max_depth=3)  # Define the model.\n",
        "    \n",
        "    return sklearn.model_selection.cross_val_score(\n",
        "        clf, iris.data, iris.target, n_jobs=-1, cv=3).mean()  # Train and evaluate the model.\n",
        "\n",
        "print('Accuracy: {}'.format(objective()))"
      ],
      "execution_count": 3,
      "outputs": [
        {
          "output_type": "stream",
          "text": [
            "Accuracy: 0.9533333333333333\n"
          ],
          "name": "stdout"
        }
      ]
    },
    {
      "cell_type": "markdown",
      "metadata": {
        "id": "jXZtIOLbd6QU"
      },
      "source": [
        "### Optimize hyperparameters of the model\n",
        "\n",
        "The hyperparameters of the above algorithm are `n_estimators` and `max_depth` for which we can try different values to see if the model accuracy can be improved. The `objective` function is modified to accept a trial object. This trial has several methods for sampling hyperparameters. We create a study to run the hyperparameter optimization and finally read the best hyperparameters."
      ]
    },
    {
      "cell_type": "code",
      "metadata": {
        "id": "wB1cbRv5d6QU",
        "outputId": "df8ac3d3-2604-4b19-be3d-884387860435",
        "colab": {
          "base_uri": "https://localhost:8080/"
        }
      },
      "source": [
        "import optuna\n",
        "\n",
        "def objective(trial):\n",
        "    iris = sklearn.datasets.load_iris()\n",
        "    \n",
        "    n_estimators = trial.suggest_int('n_estimators', 2, 20)\n",
        "    max_depth = int(trial.suggest_float('max_depth', 1, 32, log=True))\n",
        "    \n",
        "    clf = sklearn.ensemble.RandomForestClassifier(\n",
        "        n_estimators=n_estimators, max_depth=max_depth)\n",
        "    \n",
        "    return sklearn.model_selection.cross_val_score(\n",
        "        clf, iris.data, iris.target, n_jobs=-1, cv=3).mean()\n",
        "\n",
        "study = optuna.create_study(direction='maximize')\n",
        "study.optimize(objective, n_trials=100)\n",
        "\n",
        "trial = study.best_trial\n",
        "\n",
        "print('Accuracy: {}'.format(trial.value))\n",
        "print(\"Best hyperparameters: {}\".format(trial.params))"
      ],
      "execution_count": 4,
      "outputs": [
        {
          "output_type": "stream",
          "text": [
            "\u001b[32m[I 2021-05-16 04:40:40,539]\u001b[0m A new study created in memory with name: no-name-17eca62e-7585-47f5-abaf-6c3054e71346\u001b[0m\n",
            "\u001b[32m[I 2021-05-16 04:40:40,624]\u001b[0m Trial 0 finished with value: 0.9466666666666667 and parameters: {'n_estimators': 15, 'max_depth': 16.20369693502995}. Best is trial 0 with value: 0.9466666666666667.\u001b[0m\n",
            "\u001b[32m[I 2021-05-16 04:40:40,717]\u001b[0m Trial 1 finished with value: 0.96 and parameters: {'n_estimators': 18, 'max_depth': 6.422970928839076}. Best is trial 1 with value: 0.96.\u001b[0m\n",
            "\u001b[32m[I 2021-05-16 04:40:40,785]\u001b[0m Trial 2 finished with value: 0.9333333333333332 and parameters: {'n_estimators': 11, 'max_depth': 1.2628618818036534}. Best is trial 1 with value: 0.96.\u001b[0m\n",
            "\u001b[32m[I 2021-05-16 04:40:40,867]\u001b[0m Trial 3 finished with value: 0.96 and parameters: {'n_estimators': 15, 'max_depth': 1.9398806300221108}. Best is trial 1 with value: 0.96.\u001b[0m\n",
            "\u001b[32m[I 2021-05-16 04:40:40,936]\u001b[0m Trial 4 finished with value: 0.9466666666666667 and parameters: {'n_estimators': 12, 'max_depth': 3.7603335127486024}. Best is trial 1 with value: 0.96.\u001b[0m\n",
            "\u001b[32m[I 2021-05-16 04:40:41,006]\u001b[0m Trial 5 finished with value: 0.9666666666666667 and parameters: {'n_estimators': 12, 'max_depth': 28.43669598728692}. Best is trial 5 with value: 0.9666666666666667.\u001b[0m\n",
            "\u001b[32m[I 2021-05-16 04:40:41,098]\u001b[0m Trial 6 finished with value: 0.8533333333333334 and parameters: {'n_estimators': 16, 'max_depth': 1.5098848386567099}. Best is trial 5 with value: 0.9666666666666667.\u001b[0m\n",
            "\u001b[32m[I 2021-05-16 04:40:41,129]\u001b[0m Trial 7 finished with value: 0.9266666666666666 and parameters: {'n_estimators': 2, 'max_depth': 26.743728061107266}. Best is trial 5 with value: 0.9666666666666667.\u001b[0m\n",
            "\u001b[32m[I 2021-05-16 04:40:41,243]\u001b[0m Trial 8 finished with value: 0.9533333333333333 and parameters: {'n_estimators': 16, 'max_depth': 9.105895749306763}. Best is trial 5 with value: 0.9666666666666667.\u001b[0m\n",
            "\u001b[32m[I 2021-05-16 04:40:41,296]\u001b[0m Trial 9 finished with value: 0.9533333333333333 and parameters: {'n_estimators': 6, 'max_depth': 13.363477104660078}. Best is trial 5 with value: 0.9666666666666667.\u001b[0m\n",
            "\u001b[32m[I 2021-05-16 04:40:41,349]\u001b[0m Trial 10 finished with value: 0.9533333333333333 and parameters: {'n_estimators': 7, 'max_depth': 29.44807251097129}. Best is trial 5 with value: 0.9666666666666667.\u001b[0m\n",
            "\u001b[32m[I 2021-05-16 04:40:41,461]\u001b[0m Trial 11 finished with value: 0.96 and parameters: {'n_estimators': 20, 'max_depth': 4.685346863145656}. Best is trial 5 with value: 0.9666666666666667.\u001b[0m\n",
            "\u001b[32m[I 2021-05-16 04:40:41,567]\u001b[0m Trial 12 finished with value: 0.96 and parameters: {'n_estimators': 20, 'max_depth': 8.729052319703325}. Best is trial 5 with value: 0.9666666666666667.\u001b[0m\n",
            "\u001b[32m[I 2021-05-16 04:40:41,625]\u001b[0m Trial 13 finished with value: 0.9466666666666667 and parameters: {'n_estimators': 8, 'max_depth': 2.7526177432722254}. Best is trial 5 with value: 0.9666666666666667.\u001b[0m\n",
            "\u001b[32m[I 2021-05-16 04:40:41,731]\u001b[0m Trial 14 finished with value: 0.9533333333333333 and parameters: {'n_estimators': 18, 'max_depth': 20.282662227376207}. Best is trial 5 with value: 0.9666666666666667.\u001b[0m\n",
            "\u001b[32m[I 2021-05-16 04:40:41,815]\u001b[0m Trial 15 finished with value: 0.96 and parameters: {'n_estimators': 13, 'max_depth': 7.826331879775576}. Best is trial 5 with value: 0.9666666666666667.\u001b[0m\n",
            "\u001b[32m[I 2021-05-16 04:40:41,883]\u001b[0m Trial 16 finished with value: 0.96 and parameters: {'n_estimators': 9, 'max_depth': 3.061857001943449}. Best is trial 5 with value: 0.9666666666666667.\u001b[0m\n",
            "\u001b[32m[I 2021-05-16 04:40:41,947]\u001b[0m Trial 17 finished with value: 0.9733333333333333 and parameters: {'n_estimators': 9, 'max_depth': 2.6713771018195085}. Best is trial 17 with value: 0.9733333333333333.\u001b[0m\n",
            "\u001b[32m[I 2021-05-16 04:40:41,985]\u001b[0m Trial 18 finished with value: 0.8933333333333334 and parameters: {'n_estimators': 4, 'max_depth': 1.85892815115701}. Best is trial 17 with value: 0.9733333333333333.\u001b[0m\n",
            "\u001b[32m[I 2021-05-16 04:40:42,045]\u001b[0m Trial 19 finished with value: 0.94 and parameters: {'n_estimators': 9, 'max_depth': 2.3617984654001387}. Best is trial 17 with value: 0.9733333333333333.\u001b[0m\n",
            "\u001b[32m[I 2021-05-16 04:40:42,097]\u001b[0m Trial 20 finished with value: 0.7866666666666666 and parameters: {'n_estimators': 5, 'max_depth': 1.113762670081272}. Best is trial 17 with value: 0.9733333333333333.\u001b[0m\n",
            "\u001b[32m[I 2021-05-16 04:40:42,166]\u001b[0m Trial 21 finished with value: 0.9533333333333333 and parameters: {'n_estimators': 10, 'max_depth': 5.761389779581718}. Best is trial 17 with value: 0.9733333333333333.\u001b[0m\n",
            "\u001b[32m[I 2021-05-16 04:40:42,259]\u001b[0m Trial 22 finished with value: 0.9666666666666667 and parameters: {'n_estimators': 13, 'max_depth': 5.578313396974347}. Best is trial 17 with value: 0.9733333333333333.\u001b[0m\n",
            "\u001b[32m[I 2021-05-16 04:40:42,335]\u001b[0m Trial 23 finished with value: 0.9666666666666667 and parameters: {'n_estimators': 13, 'max_depth': 4.4566952128441235}. Best is trial 17 with value: 0.9733333333333333.\u001b[0m\n",
            "\u001b[32m[I 2021-05-16 04:40:42,404]\u001b[0m Trial 24 finished with value: 0.9533333333333333 and parameters: {'n_estimators': 11, 'max_depth': 3.855094715457947}. Best is trial 17 with value: 0.9733333333333333.\u001b[0m\n",
            "\u001b[32m[I 2021-05-16 04:40:42,484]\u001b[0m Trial 25 finished with value: 0.9666666666666667 and parameters: {'n_estimators': 13, 'max_depth': 11.71687025389411}. Best is trial 17 with value: 0.9733333333333333.\u001b[0m\n",
            "\u001b[32m[I 2021-05-16 04:40:42,564]\u001b[0m Trial 26 finished with value: 0.96 and parameters: {'n_estimators': 13, 'max_depth': 10.729315465059095}. Best is trial 17 with value: 0.9733333333333333.\u001b[0m\n",
            "\u001b[32m[I 2021-05-16 04:40:42,647]\u001b[0m Trial 27 finished with value: 0.96 and parameters: {'n_estimators': 14, 'max_depth': 3.7888450831936957}. Best is trial 17 with value: 0.9733333333333333.\u001b[0m\n",
            "\u001b[32m[I 2021-05-16 04:40:42,717]\u001b[0m Trial 28 finished with value: 0.96 and parameters: {'n_estimators': 10, 'max_depth': 20.954049584506627}. Best is trial 17 with value: 0.9733333333333333.\u001b[0m\n",
            "\u001b[32m[I 2021-05-16 04:40:42,775]\u001b[0m Trial 29 finished with value: 0.9666666666666667 and parameters: {'n_estimators': 8, 'max_depth': 15.30541684626396}. Best is trial 17 with value: 0.9733333333333333.\u001b[0m\n",
            "\u001b[32m[I 2021-05-16 04:40:42,811]\u001b[0m Trial 30 finished with value: 0.9533333333333333 and parameters: {'n_estimators': 3, 'max_depth': 7.061975619445157}. Best is trial 17 with value: 0.9733333333333333.\u001b[0m\n",
            "\u001b[32m[I 2021-05-16 04:40:42,883]\u001b[0m Trial 31 finished with value: 0.9666666666666667 and parameters: {'n_estimators': 12, 'max_depth': 5.242659876733068}. Best is trial 17 with value: 0.9733333333333333.\u001b[0m\n",
            "\u001b[32m[I 2021-05-16 04:40:42,938]\u001b[0m Trial 32 finished with value: 0.9466666666666667 and parameters: {'n_estimators': 7, 'max_depth': 17.75067767069182}. Best is trial 17 with value: 0.9733333333333333.\u001b[0m\n",
            "\u001b[32m[I 2021-05-16 04:40:43,030]\u001b[0m Trial 33 finished with value: 0.9666666666666667 and parameters: {'n_estimators': 14, 'max_depth': 4.455476989309398}. Best is trial 17 with value: 0.9733333333333333.\u001b[0m\n",
            "\u001b[32m[I 2021-05-16 04:40:43,098]\u001b[0m Trial 34 finished with value: 0.9666666666666667 and parameters: {'n_estimators': 10, 'max_depth': 3.02404785457341}. Best is trial 17 with value: 0.9733333333333333.\u001b[0m\n",
            "\u001b[32m[I 2021-05-16 04:40:43,157]\u001b[0m Trial 35 finished with value: 0.96 and parameters: {'n_estimators': 8, 'max_depth': 14.511546642254796}. Best is trial 17 with value: 0.9733333333333333.\u001b[0m\n",
            "\u001b[32m[I 2021-05-16 04:40:43,262]\u001b[0m Trial 36 finished with value: 0.9466666666666667 and parameters: {'n_estimators': 17, 'max_depth': 2.1835215777405854}. Best is trial 17 with value: 0.9733333333333333.\u001b[0m\n",
            "\u001b[32m[I 2021-05-16 04:40:43,350]\u001b[0m Trial 37 finished with value: 0.96 and parameters: {'n_estimators': 15, 'max_depth': 3.1445689475895224}. Best is trial 17 with value: 0.9733333333333333.\u001b[0m\n",
            "\u001b[32m[I 2021-05-16 04:40:43,433]\u001b[0m Trial 38 finished with value: 0.96 and parameters: {'n_estimators': 12, 'max_depth': 11.304625713897726}. Best is trial 17 with value: 0.9733333333333333.\u001b[0m\n",
            "\u001b[32m[I 2021-05-16 04:40:43,493]\u001b[0m Trial 39 finished with value: 0.7666666666666666 and parameters: {'n_estimators': 9, 'max_depth': 1.4824298530973599}. Best is trial 17 with value: 0.9733333333333333.\u001b[0m\n",
            "\u001b[32m[I 2021-05-16 04:40:43,587]\u001b[0m Trial 40 finished with value: 0.9533333333333333 and parameters: {'n_estimators': 14, 'max_depth': 6.426387094628784}. Best is trial 17 with value: 0.9733333333333333.\u001b[0m\n",
            "\u001b[32m[I 2021-05-16 04:40:43,673]\u001b[0m Trial 41 finished with value: 0.96 and parameters: {'n_estimators': 14, 'max_depth': 3.949563569630715}. Best is trial 17 with value: 0.9733333333333333.\u001b[0m\n",
            "\u001b[32m[I 2021-05-16 04:40:43,743]\u001b[0m Trial 42 finished with value: 0.96 and parameters: {'n_estimators': 11, 'max_depth': 23.278672153780366}. Best is trial 17 with value: 0.9733333333333333.\u001b[0m\n",
            "\u001b[32m[I 2021-05-16 04:40:43,812]\u001b[0m Trial 43 finished with value: 0.96 and parameters: {'n_estimators': 10, 'max_depth': 31.61298670333082}. Best is trial 17 with value: 0.9733333333333333.\u001b[0m\n",
            "\u001b[32m[I 2021-05-16 04:40:43,889]\u001b[0m Trial 44 finished with value: 0.96 and parameters: {'n_estimators': 13, 'max_depth': 5.459968610494931}. Best is trial 17 with value: 0.9733333333333333.\u001b[0m\n",
            "\u001b[32m[I 2021-05-16 04:40:43,965]\u001b[0m Trial 45 finished with value: 0.9533333333333333 and parameters: {'n_estimators': 12, 'max_depth': 11.23563477716892}. Best is trial 17 with value: 0.9733333333333333.\u001b[0m\n",
            "\u001b[32m[I 2021-05-16 04:40:44,018]\u001b[0m Trial 46 finished with value: 0.9533333333333333 and parameters: {'n_estimators': 7, 'max_depth': 4.903628458986744}. Best is trial 17 with value: 0.9733333333333333.\u001b[0m\n",
            "\u001b[32m[I 2021-05-16 04:40:44,116]\u001b[0m Trial 47 finished with value: 0.9533333333333333 and parameters: {'n_estimators': 16, 'max_depth': 8.54456575470766}. Best is trial 17 with value: 0.9733333333333333.\u001b[0m\n",
            "\u001b[32m[I 2021-05-16 04:40:44,204]\u001b[0m Trial 48 finished with value: 0.96 and parameters: {'n_estimators': 15, 'max_depth': 13.764081017560061}. Best is trial 17 with value: 0.9733333333333333.\u001b[0m\n",
            "\u001b[32m[I 2021-05-16 04:40:44,276]\u001b[0m Trial 49 finished with value: 0.9533333333333333 and parameters: {'n_estimators': 8, 'max_depth': 27.431562919150906}. Best is trial 17 with value: 0.9733333333333333.\u001b[0m\n",
            "\u001b[32m[I 2021-05-16 04:40:44,364]\u001b[0m Trial 50 finished with value: 0.9466666666666667 and parameters: {'n_estimators': 12, 'max_depth': 4.5625251437411904}. Best is trial 17 with value: 0.9733333333333333.\u001b[0m\n",
            "\u001b[32m[I 2021-05-16 04:40:44,436]\u001b[0m Trial 51 finished with value: 0.9533333333333333 and parameters: {'n_estimators': 11, 'max_depth': 3.340514679767482}. Best is trial 17 with value: 0.9733333333333333.\u001b[0m\n",
            "\u001b[32m[I 2021-05-16 04:40:44,516]\u001b[0m Trial 52 finished with value: 0.9533333333333333 and parameters: {'n_estimators': 13, 'max_depth': 2.6341201830431134}. Best is trial 17 with value: 0.9733333333333333.\u001b[0m\n",
            "\u001b[32m[I 2021-05-16 04:40:44,588]\u001b[0m Trial 53 finished with value: 0.8466666666666667 and parameters: {'n_estimators': 10, 'max_depth': 1.9857292279847825}. Best is trial 17 with value: 0.9733333333333333.\u001b[0m\n",
            "\u001b[32m[I 2021-05-16 04:40:44,658]\u001b[0m Trial 54 finished with value: 0.94 and parameters: {'n_estimators': 11, 'max_depth': 2.6183546571468774}. Best is trial 17 with value: 0.9733333333333333.\u001b[0m\n",
            "\u001b[32m[I 2021-05-16 04:40:44,707]\u001b[0m Trial 55 finished with value: 0.9733333333333333 and parameters: {'n_estimators': 6, 'max_depth': 3.292064710194851}. Best is trial 17 with value: 0.9733333333333333.\u001b[0m\n",
            "\u001b[32m[I 2021-05-16 04:40:44,756]\u001b[0m Trial 56 finished with value: 0.94 and parameters: {'n_estimators': 6, 'max_depth': 3.4762046857262168}. Best is trial 17 with value: 0.9733333333333333.\u001b[0m\n",
            "\u001b[32m[I 2021-05-16 04:40:44,843]\u001b[0m Trial 57 finished with value: 0.9666666666666667 and parameters: {'n_estimators': 13, 'max_depth': 5.921101234279476}. Best is trial 17 with value: 0.9733333333333333.\u001b[0m\n",
            "\u001b[32m[I 2021-05-16 04:40:44,889]\u001b[0m Trial 58 finished with value: 0.9666666666666667 and parameters: {'n_estimators': 5, 'max_depth': 16.401563832691632}. Best is trial 17 with value: 0.9733333333333333.\u001b[0m\n",
            "\u001b[32m[I 2021-05-16 04:40:44,939]\u001b[0m Trial 59 finished with value: 0.96 and parameters: {'n_estimators': 6, 'max_depth': 2.904125569816199}. Best is trial 17 with value: 0.9733333333333333.\u001b[0m\n",
            "\u001b[32m[I 2021-05-16 04:40:44,982]\u001b[0m Trial 60 finished with value: 0.96 and parameters: {'n_estimators': 5, 'max_depth': 17.308646747911876}. Best is trial 17 with value: 0.9733333333333333.\u001b[0m\n",
            "\u001b[32m[I 2021-05-16 04:40:45,020]\u001b[0m Trial 61 finished with value: 0.96 and parameters: {'n_estimators': 4, 'max_depth': 2.362252284612907}. Best is trial 17 with value: 0.9733333333333333.\u001b[0m\n",
            "\u001b[32m[I 2021-05-16 04:40:45,056]\u001b[0m Trial 62 finished with value: 0.9333333333333332 and parameters: {'n_estimators': 2, 'max_depth': 4.343263413764511}. Best is trial 17 with value: 0.9733333333333333.\u001b[0m\n",
            "\u001b[32m[I 2021-05-16 04:40:45,116]\u001b[0m Trial 63 finished with value: 0.9466666666666667 and parameters: {'n_estimators': 9, 'max_depth': 5.082823653369511}. Best is trial 17 with value: 0.9733333333333333.\u001b[0m\n",
            "\u001b[32m[I 2021-05-16 04:40:45,181]\u001b[0m Trial 64 finished with value: 0.9133333333333334 and parameters: {'n_estimators': 8, 'max_depth': 1.7129898294745687}. Best is trial 17 with value: 0.9733333333333333.\u001b[0m\n",
            "\u001b[32m[I 2021-05-16 04:40:45,274]\u001b[0m Trial 65 finished with value: 0.9533333333333333 and parameters: {'n_estimators': 14, 'max_depth': 7.246625742939676}. Best is trial 17 with value: 0.9733333333333333.\u001b[0m\n",
            "\u001b[32m[I 2021-05-16 04:40:45,357]\u001b[0m Trial 66 finished with value: 0.96 and parameters: {'n_estimators': 13, 'max_depth': 5.8506195772646095}. Best is trial 17 with value: 0.9733333333333333.\u001b[0m\n",
            "\u001b[32m[I 2021-05-16 04:40:45,433]\u001b[0m Trial 67 finished with value: 0.9666666666666667 and parameters: {'n_estimators': 12, 'max_depth': 4.412794556993339}. Best is trial 17 with value: 0.9733333333333333.\u001b[0m\n",
            "\u001b[32m[I 2021-05-16 04:40:45,477]\u001b[0m Trial 68 finished with value: 0.96 and parameters: {'n_estimators': 3, 'max_depth': 4.0156229560307395}. Best is trial 17 with value: 0.9733333333333333.\u001b[0m\n",
            "\u001b[32m[I 2021-05-16 04:40:45,533]\u001b[0m Trial 69 finished with value: 0.96 and parameters: {'n_estimators': 7, 'max_depth': 3.605212961061931}. Best is trial 17 with value: 0.9733333333333333.\u001b[0m\n",
            "\u001b[32m[I 2021-05-16 04:40:45,604]\u001b[0m Trial 70 finished with value: 0.96 and parameters: {'n_estimators': 10, 'max_depth': 3.2955678010333758}. Best is trial 17 with value: 0.9733333333333333.\u001b[0m\n",
            "\u001b[32m[I 2021-05-16 04:40:45,684]\u001b[0m Trial 71 finished with value: 0.96 and parameters: {'n_estimators': 12, 'max_depth': 6.551672916262802}. Best is trial 17 with value: 0.9733333333333333.\u001b[0m\n",
            "\u001b[32m[I 2021-05-16 04:40:45,768]\u001b[0m Trial 72 finished with value: 0.96 and parameters: {'n_estimators': 14, 'max_depth': 4.15309628665892}. Best is trial 17 with value: 0.9733333333333333.\u001b[0m\n",
            "\u001b[32m[I 2021-05-16 04:40:45,854]\u001b[0m Trial 73 finished with value: 0.96 and parameters: {'n_estimators': 15, 'max_depth': 7.76396911178309}. Best is trial 17 with value: 0.9733333333333333.\u001b[0m\n",
            "\u001b[32m[I 2021-05-16 04:40:45,919]\u001b[0m Trial 74 finished with value: 0.96 and parameters: {'n_estimators': 9, 'max_depth': 5.227308060697107}. Best is trial 17 with value: 0.9733333333333333.\u001b[0m\n",
            "\u001b[32m[I 2021-05-16 04:40:45,965]\u001b[0m Trial 75 finished with value: 0.9533333333333333 and parameters: {'n_estimators': 5, 'max_depth': 9.879058663663653}. Best is trial 17 with value: 0.9733333333333333.\u001b[0m\n",
            "\u001b[32m[I 2021-05-16 04:40:46,013]\u001b[0m Trial 76 finished with value: 0.9533333333333333 and parameters: {'n_estimators': 6, 'max_depth': 15.141709186225514}. Best is trial 17 with value: 0.9733333333333333.\u001b[0m\n",
            "\u001b[32m[I 2021-05-16 04:40:46,090]\u001b[0m Trial 77 finished with value: 0.96 and parameters: {'n_estimators': 12, 'max_depth': 12.166478544707378}. Best is trial 17 with value: 0.9733333333333333.\u001b[0m\n",
            "\u001b[32m[I 2021-05-16 04:40:46,176]\u001b[0m Trial 78 finished with value: 0.9533333333333333 and parameters: {'n_estimators': 13, 'max_depth': 2.924759574774326}. Best is trial 17 with value: 0.9733333333333333.\u001b[0m\n",
            "\u001b[32m[I 2021-05-16 04:40:46,243]\u001b[0m Trial 79 finished with value: 0.96 and parameters: {'n_estimators': 10, 'max_depth': 4.772261027177315}. Best is trial 17 with value: 0.9733333333333333.\u001b[0m\n",
            "\u001b[32m[I 2021-05-16 04:40:46,324]\u001b[0m Trial 80 finished with value: 0.9533333333333333 and parameters: {'n_estimators': 12, 'max_depth': 20.128996215167053}. Best is trial 17 with value: 0.9733333333333333.\u001b[0m\n",
            "\u001b[32m[I 2021-05-16 04:40:46,397]\u001b[0m Trial 81 finished with value: 0.9533333333333333 and parameters: {'n_estimators': 8, 'max_depth': 4.332918802959503}. Best is trial 17 with value: 0.9733333333333333.\u001b[0m\n",
            "\u001b[32m[I 2021-05-16 04:40:46,470]\u001b[0m Trial 82 finished with value: 0.96 and parameters: {'n_estimators': 11, 'max_depth': 3.6599308856877797}. Best is trial 17 with value: 0.9733333333333333.\u001b[0m\n",
            "\u001b[32m[I 2021-05-16 04:40:46,550]\u001b[0m Trial 83 finished with value: 0.96 and parameters: {'n_estimators': 13, 'max_depth': 5.920477563982645}. Best is trial 17 with value: 0.9733333333333333.\u001b[0m\n",
            "\u001b[32m[I 2021-05-16 04:40:46,647]\u001b[0m Trial 84 finished with value: 0.96 and parameters: {'n_estimators': 16, 'max_depth': 6.540926878823218}. Best is trial 17 with value: 0.9733333333333333.\u001b[0m\n",
            "\u001b[32m[I 2021-05-16 04:40:46,733]\u001b[0m Trial 85 finished with value: 0.96 and parameters: {'n_estimators': 15, 'max_depth': 12.709815100511024}. Best is trial 17 with value: 0.9733333333333333.\u001b[0m\n",
            "\u001b[32m[I 2021-05-16 04:40:46,811]\u001b[0m Trial 86 finished with value: 0.9533333333333333 and parameters: {'n_estimators': 13, 'max_depth': 2.435564361643767}. Best is trial 17 with value: 0.9733333333333333.\u001b[0m\n",
            "\u001b[32m[I 2021-05-16 04:40:46,898]\u001b[0m Trial 87 finished with value: 0.96 and parameters: {'n_estimators': 14, 'max_depth': 5.5118545204153575}. Best is trial 17 with value: 0.9733333333333333.\u001b[0m\n",
            "\u001b[32m[I 2021-05-16 04:40:46,941]\u001b[0m Trial 88 finished with value: 0.94 and parameters: {'n_estimators': 4, 'max_depth': 23.81405980766254}. Best is trial 17 with value: 0.9733333333333333.\u001b[0m\n",
            "\u001b[32m[I 2021-05-16 04:40:47,002]\u001b[0m Trial 89 finished with value: 0.9533333333333333 and parameters: {'n_estimators': 9, 'max_depth': 2.0975191255005345}. Best is trial 17 with value: 0.9733333333333333.\u001b[0m\n",
            "\u001b[32m[I 2021-05-16 04:40:47,087]\u001b[0m Trial 90 finished with value: 0.9533333333333333 and parameters: {'n_estimators': 14, 'max_depth': 3.037654160074431}. Best is trial 17 with value: 0.9733333333333333.\u001b[0m\n",
            "\u001b[32m[I 2021-05-16 04:40:47,160]\u001b[0m Trial 91 finished with value: 0.96 and parameters: {'n_estimators': 11, 'max_depth': 4.829428949479787}. Best is trial 17 with value: 0.9733333333333333.\u001b[0m\n",
            "\u001b[32m[I 2021-05-16 04:40:47,239]\u001b[0m Trial 92 finished with value: 0.9333333333333332 and parameters: {'n_estimators': 13, 'max_depth': 2.7010842716061223}. Best is trial 17 with value: 0.9733333333333333.\u001b[0m\n",
            "\u001b[32m[I 2021-05-16 04:40:47,349]\u001b[0m Trial 93 finished with value: 0.9533333333333333 and parameters: {'n_estimators': 15, 'max_depth': 9.299051974946238}. Best is trial 17 with value: 0.9733333333333333.\u001b[0m\n",
            "\u001b[32m[I 2021-05-16 04:40:47,431]\u001b[0m Trial 94 finished with value: 0.9466666666666667 and parameters: {'n_estimators': 12, 'max_depth': 3.285386127729159}. Best is trial 17 with value: 0.9733333333333333.\u001b[0m\n",
            "\u001b[32m[I 2021-05-16 04:40:47,481]\u001b[0m Trial 95 finished with value: 0.9666666666666667 and parameters: {'n_estimators': 5, 'max_depth': 16.351283441083005}. Best is trial 17 with value: 0.9733333333333333.\u001b[0m\n",
            "\u001b[32m[I 2021-05-16 04:40:47,523]\u001b[0m Trial 96 finished with value: 0.9466666666666667 and parameters: {'n_estimators': 4, 'max_depth': 16.610239811655628}. Best is trial 17 with value: 0.9733333333333333.\u001b[0m\n",
            "\u001b[32m[I 2021-05-16 04:40:47,585]\u001b[0m Trial 97 finished with value: 0.9666666666666667 and parameters: {'n_estimators': 7, 'max_depth': 5.992150187575421}. Best is trial 17 with value: 0.9733333333333333.\u001b[0m\n",
            "\u001b[32m[I 2021-05-16 04:40:47,638]\u001b[0m Trial 98 finished with value: 0.9466666666666667 and parameters: {'n_estimators': 6, 'max_depth': 18.666974016486034}. Best is trial 17 with value: 0.9733333333333333.\u001b[0m\n",
            "\u001b[32m[I 2021-05-16 04:40:47,705]\u001b[0m Trial 99 finished with value: 0.9466666666666667 and parameters: {'n_estimators': 10, 'max_depth': 3.8178639906926506}. Best is trial 17 with value: 0.9733333333333333.\u001b[0m\n"
          ],
          "name": "stderr"
        },
        {
          "output_type": "stream",
          "text": [
            "Accuracy: 0.9733333333333333\n",
            "Best hyperparameters: {'n_estimators': 9, 'max_depth': 2.6713771018195085}\n"
          ],
          "name": "stdout"
        }
      ]
    },
    {
      "cell_type": "markdown",
      "metadata": {
        "id": "ut44vQr1d6QV"
      },
      "source": [
        "It is possible to condition hyperparameters using Python `if` statements. We can for instance include another classifier, a support vector machine, in our HPO and define hyperparameters specific to the random forest model and the support vector machine."
      ]
    },
    {
      "cell_type": "code",
      "metadata": {
        "id": "iVrs9NnAd6QV",
        "outputId": "5b930f19-d28b-401b-f4c8-e90cac1ce78b",
        "colab": {
          "base_uri": "https://localhost:8080/"
        }
      },
      "source": [
        "import sklearn.svm\n",
        "\n",
        "def objective(trial):\n",
        "    iris = sklearn.datasets.load_iris()\n",
        "\n",
        "    classifier = trial.suggest_categorical('classifier', ['RandomForest', 'SVC'])\n",
        "    \n",
        "    if classifier == 'RandomForest':\n",
        "        n_estimators = trial.suggest_int('n_estimators', 2, 20)\n",
        "        max_depth = int(trial.suggest_float('max_depth', 1, 32, log=True))\n",
        "\n",
        "        clf = sklearn.ensemble.RandomForestClassifier(\n",
        "            n_estimators=n_estimators, max_depth=max_depth)\n",
        "    else:\n",
        "        c = trial.suggest_float('svc_c', 1e-10, 1e10, log=True)\n",
        "        \n",
        "        clf = sklearn.svm.SVC(C=c, gamma='auto')\n",
        "\n",
        "    return sklearn.model_selection.cross_val_score(\n",
        "        clf, iris.data, iris.target, n_jobs=-1, cv=3).mean()\n",
        "\n",
        "study = optuna.create_study(direction='maximize')\n",
        "study.optimize(objective, n_trials=100)\n",
        "\n",
        "trial = study.best_trial\n",
        "\n",
        "print('Accuracy: {}'.format(trial.value))\n",
        "print(\"Best hyperparameters: {}\".format(trial.params))"
      ],
      "execution_count": 5,
      "outputs": [
        {
          "output_type": "stream",
          "text": [
            "\u001b[32m[I 2021-05-16 04:40:54,285]\u001b[0m A new study created in memory with name: no-name-353599cc-8144-4548-b406-c462f311d7e1\u001b[0m\n",
            "\u001b[32m[I 2021-05-16 04:40:54,312]\u001b[0m Trial 0 finished with value: 0.32 and parameters: {'classifier': 'SVC', 'svc_c': 0.002288428054700031}. Best is trial 0 with value: 0.32.\u001b[0m\n",
            "\u001b[32m[I 2021-05-16 04:40:54,407]\u001b[0m Trial 1 finished with value: 0.9533333333333333 and parameters: {'classifier': 'RandomForest', 'n_estimators': 16, 'max_depth': 2.015171842115937}. Best is trial 1 with value: 0.9533333333333333.\u001b[0m\n",
            "\u001b[32m[I 2021-05-16 04:40:54,430]\u001b[0m Trial 2 finished with value: 0.9666666666666667 and parameters: {'classifier': 'SVC', 'svc_c': 27.103869761038688}. Best is trial 2 with value: 0.9666666666666667.\u001b[0m\n",
            "\u001b[32m[I 2021-05-16 04:40:54,461]\u001b[0m Trial 3 finished with value: 0.9733333333333333 and parameters: {'classifier': 'RandomForest', 'n_estimators': 3, 'max_depth': 7.3267242822248075}. Best is trial 3 with value: 0.9733333333333333.\u001b[0m\n",
            "\u001b[32m[I 2021-05-16 04:40:54,478]\u001b[0m Trial 4 finished with value: 0.96 and parameters: {'classifier': 'SVC', 'svc_c': 829093.5565214754}. Best is trial 3 with value: 0.9733333333333333.\u001b[0m\n",
            "\u001b[32m[I 2021-05-16 04:40:54,500]\u001b[0m Trial 5 finished with value: 0.96 and parameters: {'classifier': 'SVC', 'svc_c': 5252.808501857178}. Best is trial 3 with value: 0.9733333333333333.\u001b[0m\n",
            "\u001b[32m[I 2021-05-16 04:40:54,608]\u001b[0m Trial 6 finished with value: 0.96 and parameters: {'classifier': 'RandomForest', 'n_estimators': 19, 'max_depth': 6.7155389207325396}. Best is trial 3 with value: 0.9733333333333333.\u001b[0m\n",
            "\u001b[32m[I 2021-05-16 04:40:54,627]\u001b[0m Trial 7 finished with value: 0.96 and parameters: {'classifier': 'SVC', 'svc_c': 1142238328.0796623}. Best is trial 3 with value: 0.9733333333333333.\u001b[0m\n",
            "\u001b[32m[I 2021-05-16 04:40:54,718]\u001b[0m Trial 8 finished with value: 0.9533333333333333 and parameters: {'classifier': 'RandomForest', 'n_estimators': 16, 'max_depth': 21.55220067131191}. Best is trial 3 with value: 0.9733333333333333.\u001b[0m\n",
            "\u001b[32m[I 2021-05-16 04:40:54,793]\u001b[0m Trial 9 finished with value: 0.9666666666666667 and parameters: {'classifier': 'RandomForest', 'n_estimators': 13, 'max_depth': 9.421397378819359}. Best is trial 3 with value: 0.9733333333333333.\u001b[0m\n",
            "\u001b[32m[I 2021-05-16 04:40:54,825]\u001b[0m Trial 10 finished with value: 0.66 and parameters: {'classifier': 'RandomForest', 'n_estimators': 2, 'max_depth': 1.6991041868926013}. Best is trial 3 with value: 0.9733333333333333.\u001b[0m\n",
            "\u001b[32m[I 2021-05-16 04:40:54,847]\u001b[0m Trial 11 finished with value: 0.32 and parameters: {'classifier': 'SVC', 'svc_c': 3.987494973978221e-09}. Best is trial 3 with value: 0.9733333333333333.\u001b[0m\n",
            "\u001b[32m[I 2021-05-16 04:40:54,870]\u001b[0m Trial 12 finished with value: 0.7466666666666667 and parameters: {'classifier': 'SVC', 'svc_c': 0.02204896130802197}. Best is trial 3 with value: 0.9733333333333333.\u001b[0m\n",
            "\u001b[32m[I 2021-05-16 04:40:54,913]\u001b[0m Trial 13 finished with value: 0.9666666666666667 and parameters: {'classifier': 'RandomForest', 'n_estimators': 3, 'max_depth': 30.83047286003112}. Best is trial 3 with value: 0.9733333333333333.\u001b[0m\n",
            "\u001b[32m[I 2021-05-16 04:40:54,935]\u001b[0m Trial 14 finished with value: 0.32 and parameters: {'classifier': 'SVC', 'svc_c': 5.3259971136195444e-09}. Best is trial 3 with value: 0.9733333333333333.\u001b[0m\n",
            "\u001b[32m[I 2021-05-16 04:40:54,987]\u001b[0m Trial 15 finished with value: 0.96 and parameters: {'classifier': 'RandomForest', 'n_estimators': 7, 'max_depth': 3.4446092860621893}. Best is trial 3 with value: 0.9733333333333333.\u001b[0m\n",
            "\u001b[32m[I 2021-05-16 04:40:55,039]\u001b[0m Trial 16 finished with value: 0.9533333333333333 and parameters: {'classifier': 'RandomForest', 'n_estimators': 7, 'max_depth': 14.52341123659309}. Best is trial 3 with value: 0.9733333333333333.\u001b[0m\n",
            "\u001b[32m[I 2021-05-16 04:40:55,081]\u001b[0m Trial 17 finished with value: 0.94 and parameters: {'classifier': 'RandomForest', 'n_estimators': 2, 'max_depth': 21.879310674353878}. Best is trial 3 with value: 0.9733333333333333.\u001b[0m\n",
            "\u001b[32m[I 2021-05-16 04:40:55,101]\u001b[0m Trial 18 finished with value: 0.96 and parameters: {'classifier': 'SVC', 'svc_c': 4645.768450949529}. Best is trial 3 with value: 0.9733333333333333.\u001b[0m\n",
            "\u001b[32m[I 2021-05-16 04:40:55,181]\u001b[0m Trial 19 finished with value: 0.9533333333333333 and parameters: {'classifier': 'RandomForest', 'n_estimators': 12, 'max_depth': 8.021355426668357}. Best is trial 3 with value: 0.9733333333333333.\u001b[0m\n",
            "\u001b[32m[I 2021-05-16 04:40:55,250]\u001b[0m Trial 20 finished with value: 0.96 and parameters: {'classifier': 'RandomForest', 'n_estimators': 10, 'max_depth': 9.450868647165615}. Best is trial 3 with value: 0.9733333333333333.\u001b[0m\n",
            "\u001b[32m[I 2021-05-16 04:40:55,297]\u001b[0m Trial 21 finished with value: 0.94 and parameters: {'classifier': 'RandomForest', 'n_estimators': 5, 'max_depth': 3.440051483433114}. Best is trial 3 with value: 0.9733333333333333.\u001b[0m\n",
            "\u001b[32m[I 2021-05-16 04:40:55,397]\u001b[0m Trial 22 finished with value: 0.96 and parameters: {'classifier': 'RandomForest', 'n_estimators': 13, 'max_depth': 4.303182123015054}. Best is trial 3 with value: 0.9733333333333333.\u001b[0m\n",
            "\u001b[32m[I 2021-05-16 04:40:55,466]\u001b[0m Trial 23 finished with value: 0.96 and parameters: {'classifier': 'RandomForest', 'n_estimators': 10, 'max_depth': 12.357196847984866}. Best is trial 3 with value: 0.9733333333333333.\u001b[0m\n",
            "\u001b[32m[I 2021-05-16 04:40:55,489]\u001b[0m Trial 24 finished with value: 0.32 and parameters: {'classifier': 'SVC', 'svc_c': 1.025075949829111e-05}. Best is trial 3 with value: 0.9733333333333333.\u001b[0m\n",
            "\u001b[32m[I 2021-05-16 04:40:55,578]\u001b[0m Trial 25 finished with value: 0.96 and parameters: {'classifier': 'RandomForest', 'n_estimators': 15, 'max_depth': 5.4292443185636845}. Best is trial 3 with value: 0.9733333333333333.\u001b[0m\n",
            "\u001b[32m[I 2021-05-16 04:40:55,682]\u001b[0m Trial 26 finished with value: 0.9533333333333333 and parameters: {'classifier': 'RandomForest', 'n_estimators': 18, 'max_depth': 12.167389099731603}. Best is trial 3 with value: 0.9733333333333333.\u001b[0m\n",
            "\u001b[32m[I 2021-05-16 04:40:55,703]\u001b[0m Trial 27 finished with value: 0.98 and parameters: {'classifier': 'SVC', 'svc_c': 6.901097297885695}. Best is trial 27 with value: 0.98.\u001b[0m\n",
            "\u001b[32m[I 2021-05-16 04:40:55,758]\u001b[0m Trial 28 finished with value: 0.9533333333333333 and parameters: {'classifier': 'RandomForest', 'n_estimators': 8, 'max_depth': 2.5769951220479133}. Best is trial 27 with value: 0.98.\u001b[0m\n",
            "\u001b[32m[I 2021-05-16 04:40:55,777]\u001b[0m Trial 29 finished with value: 0.9666666666666667 and parameters: {'classifier': 'SVC', 'svc_c': 27.771771094604926}. Best is trial 27 with value: 0.98.\u001b[0m\n",
            "\u001b[32m[I 2021-05-16 04:40:55,804]\u001b[0m Trial 30 finished with value: 0.98 and parameters: {'classifier': 'SVC', 'svc_c': 8.87876806444731}. Best is trial 27 with value: 0.98.\u001b[0m\n",
            "\u001b[32m[I 2021-05-16 04:40:55,825]\u001b[0m Trial 31 finished with value: 0.9733333333333333 and parameters: {'classifier': 'SVC', 'svc_c': 2.9243852082732578}. Best is trial 27 with value: 0.98.\u001b[0m\n",
            "\u001b[32m[I 2021-05-16 04:40:55,845]\u001b[0m Trial 32 finished with value: 0.96 and parameters: {'classifier': 'SVC', 'svc_c': 0.23550912440378927}. Best is trial 27 with value: 0.98.\u001b[0m\n",
            "\u001b[32m[I 2021-05-16 04:40:55,868]\u001b[0m Trial 33 finished with value: 0.32 and parameters: {'classifier': 'SVC', 'svc_c': 3.240489919380976e-05}. Best is trial 27 with value: 0.98.\u001b[0m\n",
            "\u001b[32m[I 2021-05-16 04:40:55,890]\u001b[0m Trial 34 finished with value: 0.9466666666666667 and parameters: {'classifier': 'SVC', 'svc_c': 182.68568291994336}. Best is trial 27 with value: 0.98.\u001b[0m\n",
            "\u001b[32m[I 2021-05-16 04:40:55,911]\u001b[0m Trial 35 finished with value: 0.96 and parameters: {'classifier': 'SVC', 'svc_c': 17570755.5868751}. Best is trial 27 with value: 0.98.\u001b[0m\n",
            "\u001b[32m[I 2021-05-16 04:40:55,931]\u001b[0m Trial 36 finished with value: 0.9733333333333333 and parameters: {'classifier': 'SVC', 'svc_c': 3.199269584174699}. Best is trial 27 with value: 0.98.\u001b[0m\n",
            "\u001b[32m[I 2021-05-16 04:40:55,953]\u001b[0m Trial 37 finished with value: 0.32 and parameters: {'classifier': 'SVC', 'svc_c': 0.0008319858295771238}. Best is trial 27 with value: 0.98.\u001b[0m\n",
            "\u001b[32m[I 2021-05-16 04:40:55,978]\u001b[0m Trial 38 finished with value: 0.96 and parameters: {'classifier': 'SVC', 'svc_c': 26149.89277324978}. Best is trial 27 with value: 0.98.\u001b[0m\n",
            "\u001b[32m[I 2021-05-16 04:40:55,996]\u001b[0m Trial 39 finished with value: 0.9666666666666667 and parameters: {'classifier': 'SVC', 'svc_c': 1.6142616826430727}. Best is trial 27 with value: 0.98.\u001b[0m\n",
            "\u001b[32m[I 2021-05-16 04:40:56,017]\u001b[0m Trial 40 finished with value: 0.94 and parameters: {'classifier': 'SVC', 'svc_c': 0.06934660160592086}. Best is trial 27 with value: 0.98.\u001b[0m\n",
            "\u001b[32m[I 2021-05-16 04:40:56,042]\u001b[0m Trial 41 finished with value: 0.9733333333333333 and parameters: {'classifier': 'SVC', 'svc_c': 2.969694388609987}. Best is trial 27 with value: 0.98.\u001b[0m\n",
            "\u001b[32m[I 2021-05-16 04:40:56,067]\u001b[0m Trial 42 finished with value: 0.9866666666666667 and parameters: {'classifier': 'SVC', 'svc_c': 3.899817601098268}. Best is trial 42 with value: 0.9866666666666667.\u001b[0m\n",
            "\u001b[32m[I 2021-05-16 04:40:56,087]\u001b[0m Trial 43 finished with value: 0.9466666666666667 and parameters: {'classifier': 'SVC', 'svc_c': 281.8724146186447}. Best is trial 42 with value: 0.9866666666666667.\u001b[0m\n",
            "\u001b[32m[I 2021-05-16 04:40:56,114]\u001b[0m Trial 44 finished with value: 0.32 and parameters: {'classifier': 'SVC', 'svc_c': 0.005880723798556188}. Best is trial 42 with value: 0.9866666666666667.\u001b[0m\n",
            "\u001b[32m[I 2021-05-16 04:40:56,139]\u001b[0m Trial 45 finished with value: 0.98 and parameters: {'classifier': 'SVC', 'svc_c': 1.751788843868946}. Best is trial 42 with value: 0.9866666666666667.\u001b[0m\n",
            "\u001b[32m[I 2021-05-16 04:40:56,162]\u001b[0m Trial 46 finished with value: 0.94 and parameters: {'classifier': 'SVC', 'svc_c': 252.5987987295432}. Best is trial 42 with value: 0.9866666666666667.\u001b[0m\n",
            "\u001b[32m[I 2021-05-16 04:40:56,189]\u001b[0m Trial 47 finished with value: 0.32 and parameters: {'classifier': 'SVC', 'svc_c': 4.529004962835415e-05}. Best is trial 42 with value: 0.9866666666666667.\u001b[0m\n",
            "\u001b[32m[I 2021-05-16 04:40:56,214]\u001b[0m Trial 48 finished with value: 0.32 and parameters: {'classifier': 'SVC', 'svc_c': 0.001671692266612408}. Best is trial 42 with value: 0.9866666666666667.\u001b[0m\n",
            "\u001b[32m[I 2021-05-16 04:40:56,238]\u001b[0m Trial 49 finished with value: 0.96 and parameters: {'classifier': 'SVC', 'svc_c': 0.27366521387967546}. Best is trial 42 with value: 0.9866666666666667.\u001b[0m\n",
            "\u001b[32m[I 2021-05-16 04:40:56,261]\u001b[0m Trial 50 finished with value: 0.96 and parameters: {'classifier': 'SVC', 'svc_c': 217456.0262274708}. Best is trial 42 with value: 0.9866666666666667.\u001b[0m\n",
            "\u001b[32m[I 2021-05-16 04:40:56,285]\u001b[0m Trial 51 finished with value: 0.9666666666666667 and parameters: {'classifier': 'SVC', 'svc_c': 22.88112738231622}. Best is trial 42 with value: 0.9866666666666667.\u001b[0m\n",
            "\u001b[32m[I 2021-05-16 04:40:56,307]\u001b[0m Trial 52 finished with value: 0.96 and parameters: {'classifier': 'SVC', 'svc_c': 54.21610477814705}. Best is trial 42 with value: 0.9866666666666667.\u001b[0m\n",
            "\u001b[32m[I 2021-05-16 04:40:56,329]\u001b[0m Trial 53 finished with value: 0.96 and parameters: {'classifier': 'SVC', 'svc_c': 2871.6022894473776}. Best is trial 42 with value: 0.9866666666666667.\u001b[0m\n",
            "\u001b[32m[I 2021-05-16 04:40:56,350]\u001b[0m Trial 54 finished with value: 0.9866666666666667 and parameters: {'classifier': 'SVC', 'svc_c': 4.803802942878834}. Best is trial 42 with value: 0.9866666666666667.\u001b[0m\n",
            "\u001b[32m[I 2021-05-16 04:40:56,372]\u001b[0m Trial 55 finished with value: 0.94 and parameters: {'classifier': 'SVC', 'svc_c': 0.06801290004712172}. Best is trial 42 with value: 0.9866666666666667.\u001b[0m\n",
            "\u001b[32m[I 2021-05-16 04:40:56,391]\u001b[0m Trial 56 finished with value: 0.9733333333333333 and parameters: {'classifier': 'SVC', 'svc_c': 3.239982540791032}. Best is trial 42 with value: 0.9866666666666667.\u001b[0m\n",
            "\u001b[32m[I 2021-05-16 04:40:56,419]\u001b[0m Trial 57 finished with value: 0.98 and parameters: {'classifier': 'SVC', 'svc_c': 9.852868304612885}. Best is trial 42 with value: 0.9866666666666667.\u001b[0m\n",
            "\u001b[32m[I 2021-05-16 04:40:56,441]\u001b[0m Trial 58 finished with value: 0.96 and parameters: {'classifier': 'SVC', 'svc_c': 833.961832761727}. Best is trial 42 with value: 0.9866666666666667.\u001b[0m\n",
            "\u001b[32m[I 2021-05-16 04:40:56,461]\u001b[0m Trial 59 finished with value: 0.9666666666666667 and parameters: {'classifier': 'SVC', 'svc_c': 17.46906232848112}. Best is trial 42 with value: 0.9866666666666667.\u001b[0m\n",
            "\u001b[32m[I 2021-05-16 04:40:56,485]\u001b[0m Trial 60 finished with value: 0.96 and parameters: {'classifier': 'SVC', 'svc_c': 0.3422893784192704}. Best is trial 42 with value: 0.9866666666666667.\u001b[0m\n",
            "\u001b[32m[I 2021-05-16 04:40:56,510]\u001b[0m Trial 61 finished with value: 0.98 and parameters: {'classifier': 'SVC', 'svc_c': 6.436264664582037}. Best is trial 42 with value: 0.9866666666666667.\u001b[0m\n",
            "\u001b[32m[I 2021-05-16 04:40:56,528]\u001b[0m Trial 62 finished with value: 0.9733333333333333 and parameters: {'classifier': 'SVC', 'svc_c': 15.641917036210637}. Best is trial 42 with value: 0.9866666666666667.\u001b[0m\n",
            "\u001b[32m[I 2021-05-16 04:40:56,550]\u001b[0m Trial 63 finished with value: 0.7600000000000001 and parameters: {'classifier': 'SVC', 'svc_c': 0.031032204892048422}. Best is trial 42 with value: 0.9866666666666667.\u001b[0m\n",
            "\u001b[32m[I 2021-05-16 04:40:56,573]\u001b[0m Trial 64 finished with value: 0.9666666666666667 and parameters: {'classifier': 'SVC', 'svc_c': 0.5091082752956841}. Best is trial 42 with value: 0.9866666666666667.\u001b[0m\n",
            "\u001b[32m[I 2021-05-16 04:40:56,595]\u001b[0m Trial 65 finished with value: 0.96 and parameters: {'classifier': 'SVC', 'svc_c': 23302.85597436615}. Best is trial 42 with value: 0.9866666666666667.\u001b[0m\n",
            "\u001b[32m[I 2021-05-16 04:40:56,618]\u001b[0m Trial 66 finished with value: 0.96 and parameters: {'classifier': 'SVC', 'svc_c': 48.65143619522895}. Best is trial 42 with value: 0.9866666666666667.\u001b[0m\n",
            "\u001b[32m[I 2021-05-16 04:40:56,640]\u001b[0m Trial 67 finished with value: 0.96 and parameters: {'classifier': 'SVC', 'svc_c': 1448.317442900466}. Best is trial 42 with value: 0.9866666666666667.\u001b[0m\n",
            "\u001b[32m[I 2021-05-16 04:40:56,659]\u001b[0m Trial 68 finished with value: 0.9733333333333333 and parameters: {'classifier': 'SVC', 'svc_c': 3.01469139113358}. Best is trial 42 with value: 0.9866666666666667.\u001b[0m\n",
            "\u001b[32m[I 2021-05-16 04:40:56,681]\u001b[0m Trial 69 finished with value: 0.32 and parameters: {'classifier': 'SVC', 'svc_c': 0.012757436739732259}. Best is trial 42 with value: 0.9866666666666667.\u001b[0m\n",
            "\u001b[32m[I 2021-05-16 04:40:56,701]\u001b[0m Trial 70 finished with value: 0.96 and parameters: {'classifier': 'SVC', 'svc_c': 111.6547508573517}. Best is trial 42 with value: 0.9866666666666667.\u001b[0m\n",
            "\u001b[32m[I 2021-05-16 04:40:56,722]\u001b[0m Trial 71 finished with value: 0.98 and parameters: {'classifier': 'SVC', 'svc_c': 5.212259182268726}. Best is trial 42 with value: 0.9866666666666667.\u001b[0m\n",
            "\u001b[32m[I 2021-05-16 04:40:56,742]\u001b[0m Trial 72 finished with value: 0.98 and parameters: {'classifier': 'SVC', 'svc_c': 8.665895005074978}. Best is trial 42 with value: 0.9866666666666667.\u001b[0m\n",
            "\u001b[32m[I 2021-05-16 04:40:56,762]\u001b[0m Trial 73 finished with value: 0.9666666666666667 and parameters: {'classifier': 'SVC', 'svc_c': 0.8443670290794256}. Best is trial 42 with value: 0.9866666666666667.\u001b[0m\n",
            "\u001b[32m[I 2021-05-16 04:40:56,787]\u001b[0m Trial 74 finished with value: 0.9533333333333333 and parameters: {'classifier': 'SVC', 'svc_c': 0.13752950841041872}. Best is trial 42 with value: 0.9866666666666667.\u001b[0m\n",
            "\u001b[32m[I 2021-05-16 04:40:56,807]\u001b[0m Trial 75 finished with value: 0.9733333333333333 and parameters: {'classifier': 'SVC', 'svc_c': 11.867308093770976}. Best is trial 42 with value: 0.9866666666666667.\u001b[0m\n",
            "\u001b[32m[I 2021-05-16 04:40:56,827]\u001b[0m Trial 76 finished with value: 0.9733333333333333 and parameters: {'classifier': 'SVC', 'svc_c': 1.159757355282807}. Best is trial 42 with value: 0.9866666666666667.\u001b[0m\n",
            "\u001b[32m[I 2021-05-16 04:40:56,847]\u001b[0m Trial 77 finished with value: 0.9466666666666667 and parameters: {'classifier': 'SVC', 'svc_c': 440.2359876871579}. Best is trial 42 with value: 0.9866666666666667.\u001b[0m\n",
            "\u001b[32m[I 2021-05-16 04:40:56,867]\u001b[0m Trial 78 finished with value: 0.96 and parameters: {'classifier': 'SVC', 'svc_c': 96.16964010524546}. Best is trial 42 with value: 0.9866666666666667.\u001b[0m\n",
            "\u001b[32m[I 2021-05-16 04:40:56,891]\u001b[0m Trial 79 finished with value: 0.98 and parameters: {'classifier': 'SVC', 'svc_c': 5.872925772036402}. Best is trial 42 with value: 0.9866666666666667.\u001b[0m\n",
            "\u001b[32m[I 2021-05-16 04:40:56,912]\u001b[0m Trial 80 finished with value: 0.9666666666666667 and parameters: {'classifier': 'SVC', 'svc_c': 0.7622996685949881}. Best is trial 42 with value: 0.9866666666666667.\u001b[0m\n",
            "\u001b[32m[I 2021-05-16 04:40:56,933]\u001b[0m Trial 81 finished with value: 0.98 and parameters: {'classifier': 'SVC', 'svc_c': 5.071009956115586}. Best is trial 42 with value: 0.9866666666666667.\u001b[0m\n",
            "\u001b[32m[I 2021-05-16 04:40:56,956]\u001b[0m Trial 82 finished with value: 0.94 and parameters: {'classifier': 'SVC', 'svc_c': 0.08724617311564274}. Best is trial 42 with value: 0.9866666666666667.\u001b[0m\n",
            "\u001b[32m[I 2021-05-16 04:40:56,978]\u001b[0m Trial 83 finished with value: 0.96 and parameters: {'classifier': 'SVC', 'svc_c': 10883.819551341569}. Best is trial 42 with value: 0.9866666666666667.\u001b[0m\n",
            "\u001b[32m[I 2021-05-16 04:40:57,001]\u001b[0m Trial 84 finished with value: 0.96 and parameters: {'classifier': 'SVC', 'svc_c': 46.316457115979745}. Best is trial 42 with value: 0.9866666666666667.\u001b[0m\n",
            "\u001b[32m[I 2021-05-16 04:40:57,022]\u001b[0m Trial 85 finished with value: 0.98 and parameters: {'classifier': 'SVC', 'svc_c': 10.105210742109476}. Best is trial 42 with value: 0.9866666666666667.\u001b[0m\n",
            "\u001b[32m[I 2021-05-16 04:40:57,052]\u001b[0m Trial 86 finished with value: 0.9866666666666667 and parameters: {'classifier': 'SVC', 'svc_c': 4.588398250644369}. Best is trial 42 with value: 0.9866666666666667.\u001b[0m\n",
            "\u001b[32m[I 2021-05-16 04:40:57,077]\u001b[0m Trial 87 finished with value: 0.32 and parameters: {'classifier': 'SVC', 'svc_c': 0.0070910448544896035}. Best is trial 42 with value: 0.9866666666666667.\u001b[0m\n",
            "\u001b[32m[I 2021-05-16 04:40:57,099]\u001b[0m Trial 88 finished with value: 0.9533333333333333 and parameters: {'classifier': 'SVC', 'svc_c': 500.0986653410438}. Best is trial 42 with value: 0.9866666666666667.\u001b[0m\n",
            "\u001b[32m[I 2021-05-16 04:40:57,119]\u001b[0m Trial 89 finished with value: 0.98 and parameters: {'classifier': 'SVC', 'svc_c': 5.646429352749643}. Best is trial 42 with value: 0.9866666666666667.\u001b[0m\n",
            "\u001b[32m[I 2021-05-16 04:40:57,143]\u001b[0m Trial 90 finished with value: 0.96 and parameters: {'classifier': 'SVC', 'svc_c': 122.821506795152}. Best is trial 42 with value: 0.9866666666666667.\u001b[0m\n",
            "\u001b[32m[I 2021-05-16 04:40:57,167]\u001b[0m Trial 91 finished with value: 0.9666666666666667 and parameters: {'classifier': 'SVC', 'svc_c': 0.7612275655177644}. Best is trial 42 with value: 0.9866666666666667.\u001b[0m\n",
            "\u001b[32m[I 2021-05-16 04:40:57,188]\u001b[0m Trial 92 finished with value: 0.96 and parameters: {'classifier': 'SVC', 'svc_c': 0.20813550596329755}. Best is trial 42 with value: 0.9866666666666667.\u001b[0m\n",
            "\u001b[32m[I 2021-05-16 04:40:57,209]\u001b[0m Trial 93 finished with value: 0.9666666666666667 and parameters: {'classifier': 'SVC', 'svc_c': 2.272074902008592}. Best is trial 42 with value: 0.9866666666666667.\u001b[0m\n",
            "\u001b[32m[I 2021-05-16 04:40:57,230]\u001b[0m Trial 94 finished with value: 0.96 and parameters: {'classifier': 'SVC', 'svc_c': 29.83820422394315}. Best is trial 42 with value: 0.9866666666666667.\u001b[0m\n",
            "\u001b[32m[I 2021-05-16 04:40:57,251]\u001b[0m Trial 95 finished with value: 0.98 and parameters: {'classifier': 'SVC', 'svc_c': 8.556053122241696}. Best is trial 42 with value: 0.9866666666666667.\u001b[0m\n",
            "\u001b[32m[I 2021-05-16 04:40:57,274]\u001b[0m Trial 96 finished with value: 0.7600000000000001 and parameters: {'classifier': 'SVC', 'svc_c': 0.032048116325390036}. Best is trial 42 with value: 0.9866666666666667.\u001b[0m\n",
            "\u001b[32m[I 2021-05-16 04:40:57,294]\u001b[0m Trial 97 finished with value: 0.9733333333333333 and parameters: {'classifier': 'SVC', 'svc_c': 1.0008455576523856}. Best is trial 42 with value: 0.9866666666666667.\u001b[0m\n",
            "\u001b[32m[I 2021-05-16 04:40:57,317]\u001b[0m Trial 98 finished with value: 0.9733333333333333 and parameters: {'classifier': 'SVC', 'svc_c': 14.729146200204957}. Best is trial 42 with value: 0.9866666666666667.\u001b[0m\n",
            "\u001b[32m[I 2021-05-16 04:40:57,342]\u001b[0m Trial 99 finished with value: 0.96 and parameters: {'classifier': 'SVC', 'svc_c': 105.43775208979807}. Best is trial 42 with value: 0.9866666666666667.\u001b[0m\n"
          ],
          "name": "stderr"
        },
        {
          "output_type": "stream",
          "text": [
            "Accuracy: 0.9866666666666667\n",
            "Best hyperparameters: {'classifier': 'SVC', 'svc_c': 3.899817601098268}\n"
          ],
          "name": "stdout"
        }
      ]
    },
    {
      "cell_type": "markdown",
      "metadata": {
        "id": "gJcZvC3Bd6QW"
      },
      "source": [
        "### Plotting the study\n",
        "\n",
        "Plotting the optimization history of the study."
      ]
    },
    {
      "cell_type": "code",
      "metadata": {
        "id": "4U6pVM4Ud6QW",
        "outputId": "8be935a5-c34a-41c6-e3e5-e0735eebe565",
        "colab": {
          "base_uri": "https://localhost:8080/",
          "height": 542
        }
      },
      "source": [
        "optuna.visualization.plot_optimization_history(study)"
      ],
      "execution_count": 6,
      "outputs": [
        {
          "output_type": "display_data",
          "data": {
            "text/html": [
              "<html>\n",
              "<head><meta charset=\"utf-8\" /></head>\n",
              "<body>\n",
              "    <div>\n",
              "            <script src=\"https://cdnjs.cloudflare.com/ajax/libs/mathjax/2.7.5/MathJax.js?config=TeX-AMS-MML_SVG\"></script><script type=\"text/javascript\">if (window.MathJax) {MathJax.Hub.Config({SVG: {font: \"STIX-Web\"}});}</script>\n",
              "                <script type=\"text/javascript\">window.PlotlyConfig = {MathJaxConfig: 'local'};</script>\n",
              "        <script src=\"https://cdn.plot.ly/plotly-latest.min.js\"></script>    \n",
              "            <div id=\"471f9a60-3838-4838-8708-99a9dad1d7cf\" class=\"plotly-graph-div\" style=\"height:525px; width:100%;\"></div>\n",
              "            <script type=\"text/javascript\">\n",
              "                \n",
              "                    window.PLOTLYENV=window.PLOTLYENV || {};\n",
              "                    \n",
              "                if (document.getElementById(\"471f9a60-3838-4838-8708-99a9dad1d7cf\")) {\n",
              "                    Plotly.newPlot(\n",
              "                        '471f9a60-3838-4838-8708-99a9dad1d7cf',\n",
              "                        [{\"mode\": \"markers\", \"name\": \"Objective Value\", \"type\": \"scatter\", \"x\": [0, 1, 2, 3, 4, 5, 6, 7, 8, 9, 10, 11, 12, 13, 14, 15, 16, 17, 18, 19, 20, 21, 22, 23, 24, 25, 26, 27, 28, 29, 30, 31, 32, 33, 34, 35, 36, 37, 38, 39, 40, 41, 42, 43, 44, 45, 46, 47, 48, 49, 50, 51, 52, 53, 54, 55, 56, 57, 58, 59, 60, 61, 62, 63, 64, 65, 66, 67, 68, 69, 70, 71, 72, 73, 74, 75, 76, 77, 78, 79, 80, 81, 82, 83, 84, 85, 86, 87, 88, 89, 90, 91, 92, 93, 94, 95, 96, 97, 98, 99], \"y\": [0.32, 0.9533333333333333, 0.9666666666666667, 0.9733333333333333, 0.96, 0.96, 0.96, 0.96, 0.9533333333333333, 0.9666666666666667, 0.66, 0.32, 0.7466666666666667, 0.9666666666666667, 0.32, 0.96, 0.9533333333333333, 0.94, 0.96, 0.9533333333333333, 0.96, 0.94, 0.96, 0.96, 0.32, 0.96, 0.9533333333333333, 0.98, 0.9533333333333333, 0.9666666666666667, 0.98, 0.9733333333333333, 0.96, 0.32, 0.9466666666666667, 0.96, 0.9733333333333333, 0.32, 0.96, 0.9666666666666667, 0.94, 0.9733333333333333, 0.9866666666666667, 0.9466666666666667, 0.32, 0.98, 0.94, 0.32, 0.32, 0.96, 0.96, 0.9666666666666667, 0.96, 0.96, 0.9866666666666667, 0.94, 0.9733333333333333, 0.98, 0.96, 0.9666666666666667, 0.96, 0.98, 0.9733333333333333, 0.7600000000000001, 0.9666666666666667, 0.96, 0.96, 0.96, 0.9733333333333333, 0.32, 0.96, 0.98, 0.98, 0.9666666666666667, 0.9533333333333333, 0.9733333333333333, 0.9733333333333333, 0.9466666666666667, 0.96, 0.98, 0.9666666666666667, 0.98, 0.94, 0.96, 0.96, 0.98, 0.9866666666666667, 0.32, 0.9533333333333333, 0.98, 0.96, 0.9666666666666667, 0.96, 0.9666666666666667, 0.96, 0.98, 0.7600000000000001, 0.9733333333333333, 0.9733333333333333, 0.96]}, {\"name\": \"Best Value\", \"type\": \"scatter\", \"x\": [0, 1, 2, 3, 4, 5, 6, 7, 8, 9, 10, 11, 12, 13, 14, 15, 16, 17, 18, 19, 20, 21, 22, 23, 24, 25, 26, 27, 28, 29, 30, 31, 32, 33, 34, 35, 36, 37, 38, 39, 40, 41, 42, 43, 44, 45, 46, 47, 48, 49, 50, 51, 52, 53, 54, 55, 56, 57, 58, 59, 60, 61, 62, 63, 64, 65, 66, 67, 68, 69, 70, 71, 72, 73, 74, 75, 76, 77, 78, 79, 80, 81, 82, 83, 84, 85, 86, 87, 88, 89, 90, 91, 92, 93, 94, 95, 96, 97, 98, 99], \"y\": [0.32, 0.9533333333333333, 0.9666666666666667, 0.9733333333333333, 0.9733333333333333, 0.9733333333333333, 0.9733333333333333, 0.9733333333333333, 0.9733333333333333, 0.9733333333333333, 0.9733333333333333, 0.9733333333333333, 0.9733333333333333, 0.9733333333333333, 0.9733333333333333, 0.9733333333333333, 0.9733333333333333, 0.9733333333333333, 0.9733333333333333, 0.9733333333333333, 0.9733333333333333, 0.9733333333333333, 0.9733333333333333, 0.9733333333333333, 0.9733333333333333, 0.9733333333333333, 0.9733333333333333, 0.98, 0.98, 0.98, 0.98, 0.98, 0.98, 0.98, 0.98, 0.98, 0.98, 0.98, 0.98, 0.98, 0.98, 0.98, 0.9866666666666667, 0.9866666666666667, 0.9866666666666667, 0.9866666666666667, 0.9866666666666667, 0.9866666666666667, 0.9866666666666667, 0.9866666666666667, 0.9866666666666667, 0.9866666666666667, 0.9866666666666667, 0.9866666666666667, 0.9866666666666667, 0.9866666666666667, 0.9866666666666667, 0.9866666666666667, 0.9866666666666667, 0.9866666666666667, 0.9866666666666667, 0.9866666666666667, 0.9866666666666667, 0.9866666666666667, 0.9866666666666667, 0.9866666666666667, 0.9866666666666667, 0.9866666666666667, 0.9866666666666667, 0.9866666666666667, 0.9866666666666667, 0.9866666666666667, 0.9866666666666667, 0.9866666666666667, 0.9866666666666667, 0.9866666666666667, 0.9866666666666667, 0.9866666666666667, 0.9866666666666667, 0.9866666666666667, 0.9866666666666667, 0.9866666666666667, 0.9866666666666667, 0.9866666666666667, 0.9866666666666667, 0.9866666666666667, 0.9866666666666667, 0.9866666666666667, 0.9866666666666667, 0.9866666666666667, 0.9866666666666667, 0.9866666666666667, 0.9866666666666667, 0.9866666666666667, 0.9866666666666667, 0.9866666666666667, 0.9866666666666667, 0.9866666666666667, 0.9866666666666667, 0.9866666666666667]}],\n",
              "                        {\"template\": {\"data\": {\"bar\": [{\"error_x\": {\"color\": \"#2a3f5f\"}, \"error_y\": {\"color\": \"#2a3f5f\"}, \"marker\": {\"line\": {\"color\": \"#E5ECF6\", \"width\": 0.5}}, \"type\": \"bar\"}], \"barpolar\": [{\"marker\": {\"line\": {\"color\": \"#E5ECF6\", \"width\": 0.5}}, \"type\": \"barpolar\"}], \"carpet\": [{\"aaxis\": {\"endlinecolor\": \"#2a3f5f\", \"gridcolor\": \"white\", \"linecolor\": \"white\", \"minorgridcolor\": \"white\", \"startlinecolor\": \"#2a3f5f\"}, \"baxis\": {\"endlinecolor\": \"#2a3f5f\", \"gridcolor\": \"white\", \"linecolor\": \"white\", \"minorgridcolor\": \"white\", \"startlinecolor\": \"#2a3f5f\"}, \"type\": \"carpet\"}], \"choropleth\": [{\"colorbar\": {\"outlinewidth\": 0, \"ticks\": \"\"}, \"type\": \"choropleth\"}], \"contour\": [{\"colorbar\": {\"outlinewidth\": 0, \"ticks\": \"\"}, \"colorscale\": [[0.0, \"#0d0887\"], [0.1111111111111111, \"#46039f\"], [0.2222222222222222, \"#7201a8\"], [0.3333333333333333, \"#9c179e\"], [0.4444444444444444, \"#bd3786\"], [0.5555555555555556, \"#d8576b\"], [0.6666666666666666, \"#ed7953\"], [0.7777777777777778, \"#fb9f3a\"], [0.8888888888888888, \"#fdca26\"], [1.0, \"#f0f921\"]], \"type\": \"contour\"}], \"contourcarpet\": [{\"colorbar\": {\"outlinewidth\": 0, \"ticks\": \"\"}, \"type\": \"contourcarpet\"}], \"heatmap\": [{\"colorbar\": {\"outlinewidth\": 0, \"ticks\": \"\"}, \"colorscale\": [[0.0, \"#0d0887\"], [0.1111111111111111, \"#46039f\"], [0.2222222222222222, \"#7201a8\"], [0.3333333333333333, \"#9c179e\"], [0.4444444444444444, \"#bd3786\"], [0.5555555555555556, \"#d8576b\"], [0.6666666666666666, \"#ed7953\"], [0.7777777777777778, \"#fb9f3a\"], [0.8888888888888888, \"#fdca26\"], [1.0, \"#f0f921\"]], \"type\": \"heatmap\"}], \"heatmapgl\": [{\"colorbar\": {\"outlinewidth\": 0, \"ticks\": \"\"}, \"colorscale\": [[0.0, \"#0d0887\"], [0.1111111111111111, \"#46039f\"], [0.2222222222222222, \"#7201a8\"], [0.3333333333333333, \"#9c179e\"], [0.4444444444444444, \"#bd3786\"], [0.5555555555555556, \"#d8576b\"], [0.6666666666666666, \"#ed7953\"], [0.7777777777777778, \"#fb9f3a\"], [0.8888888888888888, \"#fdca26\"], [1.0, \"#f0f921\"]], \"type\": \"heatmapgl\"}], \"histogram\": [{\"marker\": {\"colorbar\": {\"outlinewidth\": 0, \"ticks\": \"\"}}, \"type\": \"histogram\"}], \"histogram2d\": [{\"colorbar\": {\"outlinewidth\": 0, \"ticks\": \"\"}, \"colorscale\": [[0.0, \"#0d0887\"], [0.1111111111111111, \"#46039f\"], [0.2222222222222222, \"#7201a8\"], [0.3333333333333333, \"#9c179e\"], [0.4444444444444444, \"#bd3786\"], [0.5555555555555556, \"#d8576b\"], [0.6666666666666666, \"#ed7953\"], [0.7777777777777778, \"#fb9f3a\"], [0.8888888888888888, \"#fdca26\"], [1.0, \"#f0f921\"]], \"type\": \"histogram2d\"}], \"histogram2dcontour\": [{\"colorbar\": {\"outlinewidth\": 0, \"ticks\": \"\"}, \"colorscale\": [[0.0, \"#0d0887\"], [0.1111111111111111, \"#46039f\"], [0.2222222222222222, \"#7201a8\"], [0.3333333333333333, \"#9c179e\"], [0.4444444444444444, \"#bd3786\"], [0.5555555555555556, \"#d8576b\"], [0.6666666666666666, \"#ed7953\"], [0.7777777777777778, \"#fb9f3a\"], [0.8888888888888888, \"#fdca26\"], [1.0, \"#f0f921\"]], \"type\": \"histogram2dcontour\"}], \"mesh3d\": [{\"colorbar\": {\"outlinewidth\": 0, \"ticks\": \"\"}, \"type\": \"mesh3d\"}], \"parcoords\": [{\"line\": {\"colorbar\": {\"outlinewidth\": 0, \"ticks\": \"\"}}, \"type\": \"parcoords\"}], \"pie\": [{\"automargin\": true, \"type\": \"pie\"}], \"scatter\": [{\"marker\": {\"colorbar\": {\"outlinewidth\": 0, \"ticks\": \"\"}}, \"type\": \"scatter\"}], \"scatter3d\": [{\"line\": {\"colorbar\": {\"outlinewidth\": 0, \"ticks\": \"\"}}, \"marker\": {\"colorbar\": {\"outlinewidth\": 0, \"ticks\": \"\"}}, \"type\": \"scatter3d\"}], \"scattercarpet\": [{\"marker\": {\"colorbar\": {\"outlinewidth\": 0, \"ticks\": \"\"}}, \"type\": \"scattercarpet\"}], \"scattergeo\": [{\"marker\": {\"colorbar\": {\"outlinewidth\": 0, \"ticks\": \"\"}}, \"type\": \"scattergeo\"}], \"scattergl\": [{\"marker\": {\"colorbar\": {\"outlinewidth\": 0, \"ticks\": \"\"}}, \"type\": \"scattergl\"}], \"scattermapbox\": [{\"marker\": {\"colorbar\": {\"outlinewidth\": 0, \"ticks\": \"\"}}, \"type\": \"scattermapbox\"}], \"scatterpolar\": [{\"marker\": {\"colorbar\": {\"outlinewidth\": 0, \"ticks\": \"\"}}, \"type\": \"scatterpolar\"}], \"scatterpolargl\": [{\"marker\": {\"colorbar\": {\"outlinewidth\": 0, \"ticks\": \"\"}}, \"type\": \"scatterpolargl\"}], \"scatterternary\": [{\"marker\": {\"colorbar\": {\"outlinewidth\": 0, \"ticks\": \"\"}}, \"type\": \"scatterternary\"}], \"surface\": [{\"colorbar\": {\"outlinewidth\": 0, \"ticks\": \"\"}, \"colorscale\": [[0.0, \"#0d0887\"], [0.1111111111111111, \"#46039f\"], [0.2222222222222222, \"#7201a8\"], [0.3333333333333333, \"#9c179e\"], [0.4444444444444444, \"#bd3786\"], [0.5555555555555556, \"#d8576b\"], [0.6666666666666666, \"#ed7953\"], [0.7777777777777778, \"#fb9f3a\"], [0.8888888888888888, \"#fdca26\"], [1.0, \"#f0f921\"]], \"type\": \"surface\"}], \"table\": [{\"cells\": {\"fill\": {\"color\": \"#EBF0F8\"}, \"line\": {\"color\": \"white\"}}, \"header\": {\"fill\": {\"color\": \"#C8D4E3\"}, \"line\": {\"color\": \"white\"}}, \"type\": \"table\"}]}, \"layout\": {\"annotationdefaults\": {\"arrowcolor\": \"#2a3f5f\", \"arrowhead\": 0, \"arrowwidth\": 1}, \"coloraxis\": {\"colorbar\": {\"outlinewidth\": 0, \"ticks\": \"\"}}, \"colorscale\": {\"diverging\": [[0, \"#8e0152\"], [0.1, \"#c51b7d\"], [0.2, \"#de77ae\"], [0.3, \"#f1b6da\"], [0.4, \"#fde0ef\"], [0.5, \"#f7f7f7\"], [0.6, \"#e6f5d0\"], [0.7, \"#b8e186\"], [0.8, \"#7fbc41\"], [0.9, \"#4d9221\"], [1, \"#276419\"]], \"sequential\": [[0.0, \"#0d0887\"], [0.1111111111111111, \"#46039f\"], [0.2222222222222222, \"#7201a8\"], [0.3333333333333333, \"#9c179e\"], [0.4444444444444444, \"#bd3786\"], [0.5555555555555556, \"#d8576b\"], [0.6666666666666666, \"#ed7953\"], [0.7777777777777778, \"#fb9f3a\"], [0.8888888888888888, \"#fdca26\"], [1.0, \"#f0f921\"]], \"sequentialminus\": [[0.0, \"#0d0887\"], [0.1111111111111111, \"#46039f\"], [0.2222222222222222, \"#7201a8\"], [0.3333333333333333, \"#9c179e\"], [0.4444444444444444, \"#bd3786\"], [0.5555555555555556, \"#d8576b\"], [0.6666666666666666, \"#ed7953\"], [0.7777777777777778, \"#fb9f3a\"], [0.8888888888888888, \"#fdca26\"], [1.0, \"#f0f921\"]]}, \"colorway\": [\"#636efa\", \"#EF553B\", \"#00cc96\", \"#ab63fa\", \"#FFA15A\", \"#19d3f3\", \"#FF6692\", \"#B6E880\", \"#FF97FF\", \"#FECB52\"], \"font\": {\"color\": \"#2a3f5f\"}, \"geo\": {\"bgcolor\": \"white\", \"lakecolor\": \"white\", \"landcolor\": \"#E5ECF6\", \"showlakes\": true, \"showland\": true, \"subunitcolor\": \"white\"}, \"hoverlabel\": {\"align\": \"left\"}, \"hovermode\": \"closest\", \"mapbox\": {\"style\": \"light\"}, \"paper_bgcolor\": \"white\", \"plot_bgcolor\": \"#E5ECF6\", \"polar\": {\"angularaxis\": {\"gridcolor\": \"white\", \"linecolor\": \"white\", \"ticks\": \"\"}, \"bgcolor\": \"#E5ECF6\", \"radialaxis\": {\"gridcolor\": \"white\", \"linecolor\": \"white\", \"ticks\": \"\"}}, \"scene\": {\"xaxis\": {\"backgroundcolor\": \"#E5ECF6\", \"gridcolor\": \"white\", \"gridwidth\": 2, \"linecolor\": \"white\", \"showbackground\": true, \"ticks\": \"\", \"zerolinecolor\": \"white\"}, \"yaxis\": {\"backgroundcolor\": \"#E5ECF6\", \"gridcolor\": \"white\", \"gridwidth\": 2, \"linecolor\": \"white\", \"showbackground\": true, \"ticks\": \"\", \"zerolinecolor\": \"white\"}, \"zaxis\": {\"backgroundcolor\": \"#E5ECF6\", \"gridcolor\": \"white\", \"gridwidth\": 2, \"linecolor\": \"white\", \"showbackground\": true, \"ticks\": \"\", \"zerolinecolor\": \"white\"}}, \"shapedefaults\": {\"line\": {\"color\": \"#2a3f5f\"}}, \"ternary\": {\"aaxis\": {\"gridcolor\": \"white\", \"linecolor\": \"white\", \"ticks\": \"\"}, \"baxis\": {\"gridcolor\": \"white\", \"linecolor\": \"white\", \"ticks\": \"\"}, \"bgcolor\": \"#E5ECF6\", \"caxis\": {\"gridcolor\": \"white\", \"linecolor\": \"white\", \"ticks\": \"\"}}, \"title\": {\"x\": 0.05}, \"xaxis\": {\"automargin\": true, \"gridcolor\": \"white\", \"linecolor\": \"white\", \"ticks\": \"\", \"title\": {\"standoff\": 15}, \"zerolinecolor\": \"white\", \"zerolinewidth\": 2}, \"yaxis\": {\"automargin\": true, \"gridcolor\": \"white\", \"linecolor\": \"white\", \"ticks\": \"\", \"title\": {\"standoff\": 15}, \"zerolinecolor\": \"white\", \"zerolinewidth\": 2}}}, \"title\": {\"text\": \"Optimization History Plot\"}, \"xaxis\": {\"title\": {\"text\": \"#Trials\"}}, \"yaxis\": {\"title\": {\"text\": \"Objective Value\"}}},\n",
              "                        {\"responsive\": true}\n",
              "                    ).then(function(){\n",
              "                            \n",
              "var gd = document.getElementById('471f9a60-3838-4838-8708-99a9dad1d7cf');\n",
              "var x = new MutationObserver(function (mutations, observer) {{\n",
              "        var display = window.getComputedStyle(gd).display;\n",
              "        if (!display || display === 'none') {{\n",
              "            console.log([gd, 'removed!']);\n",
              "            Plotly.purge(gd);\n",
              "            observer.disconnect();\n",
              "        }}\n",
              "}});\n",
              "\n",
              "// Listen for the removal of the full notebook cells\n",
              "var notebookContainer = gd.closest('#notebook-container');\n",
              "if (notebookContainer) {{\n",
              "    x.observe(notebookContainer, {childList: true});\n",
              "}}\n",
              "\n",
              "// Listen for the clearing of the current output cell\n",
              "var outputEl = gd.closest('.output');\n",
              "if (outputEl) {{\n",
              "    x.observe(outputEl, {childList: true});\n",
              "}}\n",
              "\n",
              "                        })\n",
              "                };\n",
              "                \n",
              "            </script>\n",
              "        </div>\n",
              "</body>\n",
              "</html>"
            ]
          },
          "metadata": {
            "tags": []
          }
        }
      ]
    },
    {
      "cell_type": "markdown",
      "metadata": {
        "id": "UR-C1Vbnd6QY"
      },
      "source": [
        "Plotting the accuracies for each hyperparameter for each trial."
      ]
    },
    {
      "cell_type": "code",
      "metadata": {
        "id": "DIucbbKsd6QY",
        "outputId": "f9396663-d1ab-462f-8d0c-c30194b4362c",
        "colab": {
          "base_uri": "https://localhost:8080/",
          "height": 562
        }
      },
      "source": [
        "optuna.visualization.plot_slice(study)"
      ],
      "execution_count": 7,
      "outputs": [
        {
          "output_type": "display_data",
          "data": {
            "text/html": [
              "<html>\n",
              "<head><meta charset=\"utf-8\" /></head>\n",
              "<body>\n",
              "    <div>\n",
              "            <script src=\"https://cdnjs.cloudflare.com/ajax/libs/mathjax/2.7.5/MathJax.js?config=TeX-AMS-MML_SVG\"></script><script type=\"text/javascript\">if (window.MathJax) {MathJax.Hub.Config({SVG: {font: \"STIX-Web\"}});}</script>\n",
              "                <script type=\"text/javascript\">window.PlotlyConfig = {MathJaxConfig: 'local'};</script>\n",
              "        <script src=\"https://cdn.plot.ly/plotly-latest.min.js\"></script>    \n",
              "            <div id=\"073a2146-8145-41c8-9b97-a5b2e75bc4ed\" class=\"plotly-graph-div\" style=\"height:525px; width:1200px;\"></div>\n",
              "            <script type=\"text/javascript\">\n",
              "                \n",
              "                    window.PLOTLYENV=window.PLOTLYENV || {};\n",
              "                    \n",
              "                if (document.getElementById(\"073a2146-8145-41c8-9b97-a5b2e75bc4ed\")) {\n",
              "                    Plotly.newPlot(\n",
              "                        '073a2146-8145-41c8-9b97-a5b2e75bc4ed',\n",
              "                        [{\"marker\": {\"color\": [0, 1, 2, 3, 4, 5, 6, 7, 8, 9, 10, 11, 12, 13, 14, 15, 16, 17, 18, 19, 20, 21, 22, 23, 24, 25, 26, 27, 28, 29, 30, 31, 32, 33, 34, 35, 36, 37, 38, 39, 40, 41, 42, 43, 44, 45, 46, 47, 48, 49, 50, 51, 52, 53, 54, 55, 56, 57, 58, 59, 60, 61, 62, 63, 64, 65, 66, 67, 68, 69, 70, 71, 72, 73, 74, 75, 76, 77, 78, 79, 80, 81, 82, 83, 84, 85, 86, 87, 88, 89, 90, 91, 92, 93, 94, 95, 96, 97, 98, 99], \"colorbar\": {\"title\": {\"text\": \"#Trials\"}, \"x\": 1.0, \"xpad\": 40}, \"colorscale\": [[0.0, \"rgb(247,251,255)\"], [0.125, \"rgb(222,235,247)\"], [0.25, \"rgb(198,219,239)\"], [0.375, \"rgb(158,202,225)\"], [0.5, \"rgb(107,174,214)\"], [0.625, \"rgb(66,146,198)\"], [0.75, \"rgb(33,113,181)\"], [0.875, \"rgb(8,81,156)\"], [1.0, \"rgb(8,48,107)\"]], \"line\": {\"color\": \"Grey\", \"width\": 0.5}, \"showscale\": true}, \"mode\": \"markers\", \"showlegend\": false, \"type\": \"scatter\", \"x\": [\"SVC\", \"RandomForest\", \"SVC\", \"RandomForest\", \"SVC\", \"SVC\", \"RandomForest\", \"SVC\", \"RandomForest\", \"RandomForest\", \"RandomForest\", \"SVC\", \"SVC\", \"RandomForest\", \"SVC\", \"RandomForest\", \"RandomForest\", \"RandomForest\", \"SVC\", \"RandomForest\", \"RandomForest\", \"RandomForest\", \"RandomForest\", \"RandomForest\", \"SVC\", \"RandomForest\", \"RandomForest\", \"SVC\", \"RandomForest\", \"SVC\", \"SVC\", \"SVC\", \"SVC\", \"SVC\", \"SVC\", \"SVC\", \"SVC\", \"SVC\", \"SVC\", \"SVC\", \"SVC\", \"SVC\", \"SVC\", \"SVC\", \"SVC\", \"SVC\", \"SVC\", \"SVC\", \"SVC\", \"SVC\", \"SVC\", \"SVC\", \"SVC\", \"SVC\", \"SVC\", \"SVC\", \"SVC\", \"SVC\", \"SVC\", \"SVC\", \"SVC\", \"SVC\", \"SVC\", \"SVC\", \"SVC\", \"SVC\", \"SVC\", \"SVC\", \"SVC\", \"SVC\", \"SVC\", \"SVC\", \"SVC\", \"SVC\", \"SVC\", \"SVC\", \"SVC\", \"SVC\", \"SVC\", \"SVC\", \"SVC\", \"SVC\", \"SVC\", \"SVC\", \"SVC\", \"SVC\", \"SVC\", \"SVC\", \"SVC\", \"SVC\", \"SVC\", \"SVC\", \"SVC\", \"SVC\", \"SVC\", \"SVC\", \"SVC\", \"SVC\", \"SVC\", \"SVC\"], \"xaxis\": \"x\", \"y\": [0.32, 0.9533333333333333, 0.9666666666666667, 0.9733333333333333, 0.96, 0.96, 0.96, 0.96, 0.9533333333333333, 0.9666666666666667, 0.66, 0.32, 0.7466666666666667, 0.9666666666666667, 0.32, 0.96, 0.9533333333333333, 0.94, 0.96, 0.9533333333333333, 0.96, 0.94, 0.96, 0.96, 0.32, 0.96, 0.9533333333333333, 0.98, 0.9533333333333333, 0.9666666666666667, 0.98, 0.9733333333333333, 0.96, 0.32, 0.9466666666666667, 0.96, 0.9733333333333333, 0.32, 0.96, 0.9666666666666667, 0.94, 0.9733333333333333, 0.9866666666666667, 0.9466666666666667, 0.32, 0.98, 0.94, 0.32, 0.32, 0.96, 0.96, 0.9666666666666667, 0.96, 0.96, 0.9866666666666667, 0.94, 0.9733333333333333, 0.98, 0.96, 0.9666666666666667, 0.96, 0.98, 0.9733333333333333, 0.7600000000000001, 0.9666666666666667, 0.96, 0.96, 0.96, 0.9733333333333333, 0.32, 0.96, 0.98, 0.98, 0.9666666666666667, 0.9533333333333333, 0.9733333333333333, 0.9733333333333333, 0.9466666666666667, 0.96, 0.98, 0.9666666666666667, 0.98, 0.94, 0.96, 0.96, 0.98, 0.9866666666666667, 0.32, 0.9533333333333333, 0.98, 0.96, 0.9666666666666667, 0.96, 0.9666666666666667, 0.96, 0.98, 0.7600000000000001, 0.9733333333333333, 0.9733333333333333, 0.96], \"yaxis\": \"y\"}, {\"marker\": {\"color\": [1, 3, 6, 8, 9, 10, 13, 15, 16, 17, 19, 20, 21, 22, 23, 25, 26, 28], \"colorbar\": {\"title\": {\"text\": \"#Trials\"}, \"x\": 1.0, \"xpad\": 40}, \"colorscale\": [[0.0, \"rgb(247,251,255)\"], [0.125, \"rgb(222,235,247)\"], [0.25, \"rgb(198,219,239)\"], [0.375, \"rgb(158,202,225)\"], [0.5, \"rgb(107,174,214)\"], [0.625, \"rgb(66,146,198)\"], [0.75, \"rgb(33,113,181)\"], [0.875, \"rgb(8,81,156)\"], [1.0, \"rgb(8,48,107)\"]], \"line\": {\"color\": \"Grey\", \"width\": 0.5}, \"showscale\": false}, \"mode\": \"markers\", \"showlegend\": false, \"type\": \"scatter\", \"x\": [2.015171842115937, 7.3267242822248075, 6.7155389207325396, 21.55220067131191, 9.421397378819359, 1.6991041868926013, 30.83047286003112, 3.4446092860621893, 14.52341123659309, 21.879310674353878, 8.021355426668357, 9.450868647165615, 3.440051483433114, 4.303182123015054, 12.357196847984866, 5.4292443185636845, 12.167389099731603, 2.5769951220479133], \"xaxis\": \"x2\", \"y\": [0.9533333333333333, 0.9733333333333333, 0.96, 0.9533333333333333, 0.9666666666666667, 0.66, 0.9666666666666667, 0.96, 0.9533333333333333, 0.94, 0.9533333333333333, 0.96, 0.94, 0.96, 0.96, 0.96, 0.9533333333333333, 0.9533333333333333], \"yaxis\": \"y2\"}, {\"marker\": {\"color\": [1, 3, 6, 8, 9, 10, 13, 15, 16, 17, 19, 20, 21, 22, 23, 25, 26, 28], \"colorbar\": {\"title\": {\"text\": \"#Trials\"}, \"x\": 1.0, \"xpad\": 40}, \"colorscale\": [[0.0, \"rgb(247,251,255)\"], [0.125, \"rgb(222,235,247)\"], [0.25, \"rgb(198,219,239)\"], [0.375, \"rgb(158,202,225)\"], [0.5, \"rgb(107,174,214)\"], [0.625, \"rgb(66,146,198)\"], [0.75, \"rgb(33,113,181)\"], [0.875, \"rgb(8,81,156)\"], [1.0, \"rgb(8,48,107)\"]], \"line\": {\"color\": \"Grey\", \"width\": 0.5}, \"showscale\": false}, \"mode\": \"markers\", \"showlegend\": false, \"type\": \"scatter\", \"x\": [16, 3, 19, 16, 13, 2, 3, 7, 7, 2, 12, 10, 5, 13, 10, 15, 18, 8], \"xaxis\": \"x3\", \"y\": [0.9533333333333333, 0.9733333333333333, 0.96, 0.9533333333333333, 0.9666666666666667, 0.66, 0.9666666666666667, 0.96, 0.9533333333333333, 0.94, 0.9533333333333333, 0.96, 0.94, 0.96, 0.96, 0.96, 0.9533333333333333, 0.9533333333333333], \"yaxis\": \"y3\"}, {\"marker\": {\"color\": [0, 2, 4, 5, 7, 11, 12, 14, 18, 24, 27, 29, 30, 31, 32, 33, 34, 35, 36, 37, 38, 39, 40, 41, 42, 43, 44, 45, 46, 47, 48, 49, 50, 51, 52, 53, 54, 55, 56, 57, 58, 59, 60, 61, 62, 63, 64, 65, 66, 67, 68, 69, 70, 71, 72, 73, 74, 75, 76, 77, 78, 79, 80, 81, 82, 83, 84, 85, 86, 87, 88, 89, 90, 91, 92, 93, 94, 95, 96, 97, 98, 99], \"colorbar\": {\"title\": {\"text\": \"#Trials\"}, \"x\": 1.0, \"xpad\": 40}, \"colorscale\": [[0.0, \"rgb(247,251,255)\"], [0.125, \"rgb(222,235,247)\"], [0.25, \"rgb(198,219,239)\"], [0.375, \"rgb(158,202,225)\"], [0.5, \"rgb(107,174,214)\"], [0.625, \"rgb(66,146,198)\"], [0.75, \"rgb(33,113,181)\"], [0.875, \"rgb(8,81,156)\"], [1.0, \"rgb(8,48,107)\"]], \"line\": {\"color\": \"Grey\", \"width\": 0.5}, \"showscale\": false}, \"mode\": \"markers\", \"showlegend\": false, \"type\": \"scatter\", \"x\": [0.002288428054700031, 27.103869761038688, 829093.5565214754, 5252.808501857178, 1142238328.0796623, 3.987494973978221e-09, 0.02204896130802197, 5.3259971136195444e-09, 4645.768450949529, 1.025075949829111e-05, 6.901097297885695, 27.771771094604926, 8.87876806444731, 2.9243852082732578, 0.23550912440378927, 3.240489919380976e-05, 182.68568291994336, 17570755.5868751, 3.199269584174699, 0.0008319858295771238, 26149.89277324978, 1.6142616826430727, 0.06934660160592086, 2.969694388609987, 3.899817601098268, 281.8724146186447, 0.005880723798556188, 1.751788843868946, 252.5987987295432, 4.529004962835415e-05, 0.001671692266612408, 0.27366521387967546, 217456.0262274708, 22.88112738231622, 54.21610477814705, 2871.6022894473776, 4.803802942878834, 0.06801290004712172, 3.239982540791032, 9.852868304612885, 833.961832761727, 17.46906232848112, 0.3422893784192704, 6.436264664582037, 15.641917036210637, 0.031032204892048422, 0.5091082752956841, 23302.85597436615, 48.65143619522895, 1448.317442900466, 3.01469139113358, 0.012757436739732259, 111.6547508573517, 5.212259182268726, 8.665895005074978, 0.8443670290794256, 0.13752950841041872, 11.867308093770976, 1.159757355282807, 440.2359876871579, 96.16964010524546, 5.872925772036402, 0.7622996685949881, 5.071009956115586, 0.08724617311564274, 10883.819551341569, 46.316457115979745, 10.105210742109476, 4.588398250644369, 0.0070910448544896035, 500.0986653410438, 5.646429352749643, 122.821506795152, 0.7612275655177644, 0.20813550596329755, 2.272074902008592, 29.83820422394315, 8.556053122241696, 0.032048116325390036, 1.0008455576523856, 14.729146200204957, 105.43775208979807], \"xaxis\": \"x4\", \"y\": [0.32, 0.9666666666666667, 0.96, 0.96, 0.96, 0.32, 0.7466666666666667, 0.32, 0.96, 0.32, 0.98, 0.9666666666666667, 0.98, 0.9733333333333333, 0.96, 0.32, 0.9466666666666667, 0.96, 0.9733333333333333, 0.32, 0.96, 0.9666666666666667, 0.94, 0.9733333333333333, 0.9866666666666667, 0.9466666666666667, 0.32, 0.98, 0.94, 0.32, 0.32, 0.96, 0.96, 0.9666666666666667, 0.96, 0.96, 0.9866666666666667, 0.94, 0.9733333333333333, 0.98, 0.96, 0.9666666666666667, 0.96, 0.98, 0.9733333333333333, 0.7600000000000001, 0.9666666666666667, 0.96, 0.96, 0.96, 0.9733333333333333, 0.32, 0.96, 0.98, 0.98, 0.9666666666666667, 0.9533333333333333, 0.9733333333333333, 0.9733333333333333, 0.9466666666666667, 0.96, 0.98, 0.9666666666666667, 0.98, 0.94, 0.96, 0.96, 0.98, 0.9866666666666667, 0.32, 0.9533333333333333, 0.98, 0.96, 0.9666666666666667, 0.96, 0.9666666666666667, 0.96, 0.98, 0.7600000000000001, 0.9733333333333333, 0.9733333333333333, 0.96], \"yaxis\": \"y4\"}],\n",
              "                        {\"template\": {\"data\": {\"bar\": [{\"error_x\": {\"color\": \"#2a3f5f\"}, \"error_y\": {\"color\": \"#2a3f5f\"}, \"marker\": {\"line\": {\"color\": \"#E5ECF6\", \"width\": 0.5}}, \"type\": \"bar\"}], \"barpolar\": [{\"marker\": {\"line\": {\"color\": \"#E5ECF6\", \"width\": 0.5}}, \"type\": \"barpolar\"}], \"carpet\": [{\"aaxis\": {\"endlinecolor\": \"#2a3f5f\", \"gridcolor\": \"white\", \"linecolor\": \"white\", \"minorgridcolor\": \"white\", \"startlinecolor\": \"#2a3f5f\"}, \"baxis\": {\"endlinecolor\": \"#2a3f5f\", \"gridcolor\": \"white\", \"linecolor\": \"white\", \"minorgridcolor\": \"white\", \"startlinecolor\": \"#2a3f5f\"}, \"type\": \"carpet\"}], \"choropleth\": [{\"colorbar\": {\"outlinewidth\": 0, \"ticks\": \"\"}, \"type\": \"choropleth\"}], \"contour\": [{\"colorbar\": {\"outlinewidth\": 0, \"ticks\": \"\"}, \"colorscale\": [[0.0, \"#0d0887\"], [0.1111111111111111, \"#46039f\"], [0.2222222222222222, \"#7201a8\"], [0.3333333333333333, \"#9c179e\"], [0.4444444444444444, \"#bd3786\"], [0.5555555555555556, \"#d8576b\"], [0.6666666666666666, \"#ed7953\"], [0.7777777777777778, \"#fb9f3a\"], [0.8888888888888888, \"#fdca26\"], [1.0, \"#f0f921\"]], \"type\": \"contour\"}], \"contourcarpet\": [{\"colorbar\": {\"outlinewidth\": 0, \"ticks\": \"\"}, \"type\": \"contourcarpet\"}], \"heatmap\": [{\"colorbar\": {\"outlinewidth\": 0, \"ticks\": \"\"}, \"colorscale\": [[0.0, \"#0d0887\"], [0.1111111111111111, \"#46039f\"], [0.2222222222222222, \"#7201a8\"], [0.3333333333333333, \"#9c179e\"], [0.4444444444444444, \"#bd3786\"], [0.5555555555555556, \"#d8576b\"], [0.6666666666666666, \"#ed7953\"], [0.7777777777777778, \"#fb9f3a\"], [0.8888888888888888, \"#fdca26\"], [1.0, \"#f0f921\"]], \"type\": \"heatmap\"}], \"heatmapgl\": [{\"colorbar\": {\"outlinewidth\": 0, \"ticks\": \"\"}, \"colorscale\": [[0.0, \"#0d0887\"], [0.1111111111111111, \"#46039f\"], [0.2222222222222222, \"#7201a8\"], [0.3333333333333333, \"#9c179e\"], [0.4444444444444444, \"#bd3786\"], [0.5555555555555556, \"#d8576b\"], [0.6666666666666666, \"#ed7953\"], [0.7777777777777778, \"#fb9f3a\"], [0.8888888888888888, \"#fdca26\"], [1.0, \"#f0f921\"]], \"type\": \"heatmapgl\"}], \"histogram\": [{\"marker\": {\"colorbar\": {\"outlinewidth\": 0, \"ticks\": \"\"}}, \"type\": \"histogram\"}], \"histogram2d\": [{\"colorbar\": {\"outlinewidth\": 0, \"ticks\": \"\"}, \"colorscale\": [[0.0, \"#0d0887\"], [0.1111111111111111, \"#46039f\"], [0.2222222222222222, \"#7201a8\"], [0.3333333333333333, \"#9c179e\"], [0.4444444444444444, \"#bd3786\"], [0.5555555555555556, \"#d8576b\"], [0.6666666666666666, \"#ed7953\"], [0.7777777777777778, \"#fb9f3a\"], [0.8888888888888888, \"#fdca26\"], [1.0, \"#f0f921\"]], \"type\": \"histogram2d\"}], \"histogram2dcontour\": [{\"colorbar\": {\"outlinewidth\": 0, \"ticks\": \"\"}, \"colorscale\": [[0.0, \"#0d0887\"], [0.1111111111111111, \"#46039f\"], [0.2222222222222222, \"#7201a8\"], [0.3333333333333333, \"#9c179e\"], [0.4444444444444444, \"#bd3786\"], [0.5555555555555556, \"#d8576b\"], [0.6666666666666666, \"#ed7953\"], [0.7777777777777778, \"#fb9f3a\"], [0.8888888888888888, \"#fdca26\"], [1.0, \"#f0f921\"]], \"type\": \"histogram2dcontour\"}], \"mesh3d\": [{\"colorbar\": {\"outlinewidth\": 0, \"ticks\": \"\"}, \"type\": \"mesh3d\"}], \"parcoords\": [{\"line\": {\"colorbar\": {\"outlinewidth\": 0, \"ticks\": \"\"}}, \"type\": \"parcoords\"}], \"pie\": [{\"automargin\": true, \"type\": \"pie\"}], \"scatter\": [{\"marker\": {\"colorbar\": {\"outlinewidth\": 0, \"ticks\": \"\"}}, \"type\": \"scatter\"}], \"scatter3d\": [{\"line\": {\"colorbar\": {\"outlinewidth\": 0, \"ticks\": \"\"}}, \"marker\": {\"colorbar\": {\"outlinewidth\": 0, \"ticks\": \"\"}}, \"type\": \"scatter3d\"}], \"scattercarpet\": [{\"marker\": {\"colorbar\": {\"outlinewidth\": 0, \"ticks\": \"\"}}, \"type\": \"scattercarpet\"}], \"scattergeo\": [{\"marker\": {\"colorbar\": {\"outlinewidth\": 0, \"ticks\": \"\"}}, \"type\": \"scattergeo\"}], \"scattergl\": [{\"marker\": {\"colorbar\": {\"outlinewidth\": 0, \"ticks\": \"\"}}, \"type\": \"scattergl\"}], \"scattermapbox\": [{\"marker\": {\"colorbar\": {\"outlinewidth\": 0, \"ticks\": \"\"}}, \"type\": \"scattermapbox\"}], \"scatterpolar\": [{\"marker\": {\"colorbar\": {\"outlinewidth\": 0, \"ticks\": \"\"}}, \"type\": \"scatterpolar\"}], \"scatterpolargl\": [{\"marker\": {\"colorbar\": {\"outlinewidth\": 0, \"ticks\": \"\"}}, \"type\": \"scatterpolargl\"}], \"scatterternary\": [{\"marker\": {\"colorbar\": {\"outlinewidth\": 0, \"ticks\": \"\"}}, \"type\": \"scatterternary\"}], \"surface\": [{\"colorbar\": {\"outlinewidth\": 0, \"ticks\": \"\"}, \"colorscale\": [[0.0, \"#0d0887\"], [0.1111111111111111, \"#46039f\"], [0.2222222222222222, \"#7201a8\"], [0.3333333333333333, \"#9c179e\"], [0.4444444444444444, \"#bd3786\"], [0.5555555555555556, \"#d8576b\"], [0.6666666666666666, \"#ed7953\"], [0.7777777777777778, \"#fb9f3a\"], [0.8888888888888888, \"#fdca26\"], [1.0, \"#f0f921\"]], \"type\": \"surface\"}], \"table\": [{\"cells\": {\"fill\": {\"color\": \"#EBF0F8\"}, \"line\": {\"color\": \"white\"}}, \"header\": {\"fill\": {\"color\": \"#C8D4E3\"}, \"line\": {\"color\": \"white\"}}, \"type\": \"table\"}]}, \"layout\": {\"annotationdefaults\": {\"arrowcolor\": \"#2a3f5f\", \"arrowhead\": 0, \"arrowwidth\": 1}, \"coloraxis\": {\"colorbar\": {\"outlinewidth\": 0, \"ticks\": \"\"}}, \"colorscale\": {\"diverging\": [[0, \"#8e0152\"], [0.1, \"#c51b7d\"], [0.2, \"#de77ae\"], [0.3, \"#f1b6da\"], [0.4, \"#fde0ef\"], [0.5, \"#f7f7f7\"], [0.6, \"#e6f5d0\"], [0.7, \"#b8e186\"], [0.8, \"#7fbc41\"], [0.9, \"#4d9221\"], [1, \"#276419\"]], \"sequential\": [[0.0, \"#0d0887\"], [0.1111111111111111, \"#46039f\"], [0.2222222222222222, \"#7201a8\"], [0.3333333333333333, \"#9c179e\"], [0.4444444444444444, \"#bd3786\"], [0.5555555555555556, \"#d8576b\"], [0.6666666666666666, \"#ed7953\"], [0.7777777777777778, \"#fb9f3a\"], [0.8888888888888888, \"#fdca26\"], [1.0, \"#f0f921\"]], \"sequentialminus\": [[0.0, \"#0d0887\"], [0.1111111111111111, \"#46039f\"], [0.2222222222222222, \"#7201a8\"], [0.3333333333333333, \"#9c179e\"], [0.4444444444444444, \"#bd3786\"], [0.5555555555555556, \"#d8576b\"], [0.6666666666666666, \"#ed7953\"], [0.7777777777777778, \"#fb9f3a\"], [0.8888888888888888, \"#fdca26\"], [1.0, \"#f0f921\"]]}, \"colorway\": [\"#636efa\", \"#EF553B\", \"#00cc96\", \"#ab63fa\", \"#FFA15A\", \"#19d3f3\", \"#FF6692\", \"#B6E880\", \"#FF97FF\", \"#FECB52\"], \"font\": {\"color\": \"#2a3f5f\"}, \"geo\": {\"bgcolor\": \"white\", \"lakecolor\": \"white\", \"landcolor\": \"#E5ECF6\", \"showlakes\": true, \"showland\": true, \"subunitcolor\": \"white\"}, \"hoverlabel\": {\"align\": \"left\"}, \"hovermode\": \"closest\", \"mapbox\": {\"style\": \"light\"}, \"paper_bgcolor\": \"white\", \"plot_bgcolor\": \"#E5ECF6\", \"polar\": {\"angularaxis\": {\"gridcolor\": \"white\", \"linecolor\": \"white\", \"ticks\": \"\"}, \"bgcolor\": \"#E5ECF6\", \"radialaxis\": {\"gridcolor\": \"white\", \"linecolor\": \"white\", \"ticks\": \"\"}}, \"scene\": {\"xaxis\": {\"backgroundcolor\": \"#E5ECF6\", \"gridcolor\": \"white\", \"gridwidth\": 2, \"linecolor\": \"white\", \"showbackground\": true, \"ticks\": \"\", \"zerolinecolor\": \"white\"}, \"yaxis\": {\"backgroundcolor\": \"#E5ECF6\", \"gridcolor\": \"white\", \"gridwidth\": 2, \"linecolor\": \"white\", \"showbackground\": true, \"ticks\": \"\", \"zerolinecolor\": \"white\"}, \"zaxis\": {\"backgroundcolor\": \"#E5ECF6\", \"gridcolor\": \"white\", \"gridwidth\": 2, \"linecolor\": \"white\", \"showbackground\": true, \"ticks\": \"\", \"zerolinecolor\": \"white\"}}, \"shapedefaults\": {\"line\": {\"color\": \"#2a3f5f\"}}, \"ternary\": {\"aaxis\": {\"gridcolor\": \"white\", \"linecolor\": \"white\", \"ticks\": \"\"}, \"baxis\": {\"gridcolor\": \"white\", \"linecolor\": \"white\", \"ticks\": \"\"}, \"bgcolor\": \"#E5ECF6\", \"caxis\": {\"gridcolor\": \"white\", \"linecolor\": \"white\", \"ticks\": \"\"}}, \"title\": {\"x\": 0.05}, \"xaxis\": {\"automargin\": true, \"gridcolor\": \"white\", \"linecolor\": \"white\", \"ticks\": \"\", \"title\": {\"standoff\": 15}, \"zerolinecolor\": \"white\", \"zerolinewidth\": 2}, \"yaxis\": {\"automargin\": true, \"gridcolor\": \"white\", \"linecolor\": \"white\", \"ticks\": \"\", \"title\": {\"standoff\": 15}, \"zerolinecolor\": \"white\", \"zerolinewidth\": 2}}}, \"title\": {\"text\": \"Slice Plot\"}, \"width\": 1200, \"xaxis\": {\"anchor\": \"y\", \"domain\": [0.0, 0.2125], \"title\": {\"text\": \"classifier\"}}, \"xaxis2\": {\"anchor\": \"y2\", \"domain\": [0.2625, 0.475], \"title\": {\"text\": \"max_depth\"}, \"type\": \"log\"}, \"xaxis3\": {\"anchor\": \"y3\", \"domain\": [0.525, 0.7375], \"title\": {\"text\": \"n_estimators\"}}, \"xaxis4\": {\"anchor\": \"y4\", \"domain\": [0.7875, 1.0], \"title\": {\"text\": \"svc_c\"}, \"type\": \"log\"}, \"yaxis\": {\"anchor\": \"x\", \"domain\": [0.0, 1.0], \"title\": {\"text\": \"Objective Value\"}}, \"yaxis2\": {\"anchor\": \"x2\", \"domain\": [0.0, 1.0], \"matches\": \"y\", \"showticklabels\": false}, \"yaxis3\": {\"anchor\": \"x3\", \"domain\": [0.0, 1.0], \"matches\": \"y\", \"showticklabels\": false}, \"yaxis4\": {\"anchor\": \"x4\", \"domain\": [0.0, 1.0], \"matches\": \"y\", \"showticklabels\": false}},\n",
              "                        {\"responsive\": true}\n",
              "                    ).then(function(){\n",
              "                            \n",
              "var gd = document.getElementById('073a2146-8145-41c8-9b97-a5b2e75bc4ed');\n",
              "var x = new MutationObserver(function (mutations, observer) {{\n",
              "        var display = window.getComputedStyle(gd).display;\n",
              "        if (!display || display === 'none') {{\n",
              "            console.log([gd, 'removed!']);\n",
              "            Plotly.purge(gd);\n",
              "            observer.disconnect();\n",
              "        }}\n",
              "}});\n",
              "\n",
              "// Listen for the removal of the full notebook cells\n",
              "var notebookContainer = gd.closest('#notebook-container');\n",
              "if (notebookContainer) {{\n",
              "    x.observe(notebookContainer, {childList: true});\n",
              "}}\n",
              "\n",
              "// Listen for the clearing of the current output cell\n",
              "var outputEl = gd.closest('.output');\n",
              "if (outputEl) {{\n",
              "    x.observe(outputEl, {childList: true});\n",
              "}}\n",
              "\n",
              "                        })\n",
              "                };\n",
              "                \n",
              "            </script>\n",
              "        </div>\n",
              "</body>\n",
              "</html>"
            ]
          },
          "metadata": {
            "tags": []
          }
        }
      ]
    },
    {
      "cell_type": "markdown",
      "metadata": {
        "id": "CRe13Wd0d6QY"
      },
      "source": [
        "Plotting the accuracy surface for the hyperparameters involved in the random forest model."
      ]
    },
    {
      "cell_type": "code",
      "metadata": {
        "id": "xUkBI30ud6QZ",
        "outputId": "ececc502-daa9-4a16-e1fa-66bc158bd82b",
        "colab": {
          "base_uri": "https://localhost:8080/",
          "height": 542
        }
      },
      "source": [
        "optuna.visualization.plot_contour(study, params=['n_estimators', 'max_depth'])"
      ],
      "execution_count": 8,
      "outputs": [
        {
          "output_type": "display_data",
          "data": {
            "text/html": [
              "<html>\n",
              "<head><meta charset=\"utf-8\" /></head>\n",
              "<body>\n",
              "    <div>\n",
              "            <script src=\"https://cdnjs.cloudflare.com/ajax/libs/mathjax/2.7.5/MathJax.js?config=TeX-AMS-MML_SVG\"></script><script type=\"text/javascript\">if (window.MathJax) {MathJax.Hub.Config({SVG: {font: \"STIX-Web\"}});}</script>\n",
              "                <script type=\"text/javascript\">window.PlotlyConfig = {MathJaxConfig: 'local'};</script>\n",
              "        <script src=\"https://cdn.plot.ly/plotly-latest.min.js\"></script>    \n",
              "            <div id=\"5f167dc7-4390-4abd-a019-54a1d43c7dbe\" class=\"plotly-graph-div\" style=\"height:525px; width:100%;\"></div>\n",
              "            <script type=\"text/javascript\">\n",
              "                \n",
              "                    window.PLOTLYENV=window.PLOTLYENV || {};\n",
              "                    \n",
              "                if (document.getElementById(\"5f167dc7-4390-4abd-a019-54a1d43c7dbe\")) {\n",
              "                    Plotly.newPlot(\n",
              "                        '5f167dc7-4390-4abd-a019-54a1d43c7dbe',\n",
              "                        [{\"colorbar\": {\"title\": {\"text\": \"Objective Value\"}}, \"colorscale\": [[0, \"rgb(5,10,172)\"], [0.35, \"rgb(40,60,190)\"], [0.5, \"rgb(70,100,245)\"], [0.6, \"rgb(90,120,245)\"], [0.7, \"rgb(106,137,247)\"], [1, \"rgb(220,220,220)\"]], \"connectgaps\": true, \"contours\": {\"coloring\": \"heatmap\"}, \"hoverinfo\": \"none\", \"line\": {\"smoothing\": 1.3}, \"reversescale\": false, \"type\": \"contour\", \"x\": [1.4698804081506425, 1.6991041868926013, 2.015171842115937, 2.5769951220479133, 3.440051483433114, 3.4446092860621893, 4.303182123015054, 5.4292443185636845, 6.7155389207325396, 7.3267242822248075, 8.021355426668357, 9.421397378819359, 9.450868647165615, 12.167389099731603, 12.357196847984866, 14.52341123659309, 21.55220067131191, 21.879310674353878, 30.83047286003112, 35.63839971597807], \"y\": [1.15, 2, 3, 5, 7, 8, 10, 12, 13, 15, 16, 18, 19, 19.85], \"z\": [[null, null, null, null, null, null, null, null, null, null, null, null, null, null, null, null, null, null, null, null], [null, 0.66, null, null, null, null, null, null, null, null, null, null, null, null, null, null, null, 0.94, null, null], [null, null, null, null, null, null, null, null, null, 0.9733333333333333, null, null, null, null, null, null, null, null, 0.9666666666666667, null], [null, null, null, null, 0.94, null, null, null, null, null, null, null, null, null, null, null, null, null, null, null], [null, null, null, null, null, 0.96, null, null, null, null, null, null, null, null, null, 0.9533333333333333, null, null, null, null], [null, null, null, 0.9533333333333333, null, null, null, null, null, null, null, null, null, null, null, null, null, null, null, null], [null, null, null, null, null, null, null, null, null, null, null, null, 0.96, null, 0.96, null, null, null, null, null], [null, null, null, null, null, null, null, null, null, null, 0.9533333333333333, null, null, null, null, null, null, null, null, null], [null, null, null, null, null, null, 0.96, null, null, null, null, 0.9666666666666667, null, null, null, null, null, null, null, null], [null, null, null, null, null, null, null, 0.96, null, null, null, null, null, null, null, null, null, null, null, null], [null, null, 0.9533333333333333, null, null, null, null, null, null, null, null, null, null, null, null, null, 0.9533333333333333, null, null, null], [null, null, null, null, null, null, null, null, null, null, null, null, null, 0.9533333333333333, null, null, null, null, null, null], [null, null, null, null, null, null, null, null, 0.96, null, null, null, null, null, null, null, null, null, null, null], [null, null, null, null, null, null, null, null, null, null, null, null, null, null, null, null, null, null, null, null]]}, {\"marker\": {\"color\": \"black\", \"line\": {\"color\": \"Grey\", \"width\": 0.5}}, \"mode\": \"markers\", \"showlegend\": false, \"type\": \"scatter\", \"x\": [2.015171842115937, 7.3267242822248075, 6.7155389207325396, 21.55220067131191, 9.421397378819359, 1.6991041868926013, 30.83047286003112, 3.4446092860621893, 14.52341123659309, 21.879310674353878, 8.021355426668357, 9.450868647165615, 3.440051483433114, 4.303182123015054, 12.357196847984866, 5.4292443185636845, 12.167389099731603, 2.5769951220479133], \"y\": [16, 3, 19, 16, 13, 2, 3, 7, 7, 2, 12, 10, 5, 13, 10, 15, 18, 8]}],\n",
              "                        {\"template\": {\"data\": {\"bar\": [{\"error_x\": {\"color\": \"#2a3f5f\"}, \"error_y\": {\"color\": \"#2a3f5f\"}, \"marker\": {\"line\": {\"color\": \"#E5ECF6\", \"width\": 0.5}}, \"type\": \"bar\"}], \"barpolar\": [{\"marker\": {\"line\": {\"color\": \"#E5ECF6\", \"width\": 0.5}}, \"type\": \"barpolar\"}], \"carpet\": [{\"aaxis\": {\"endlinecolor\": \"#2a3f5f\", \"gridcolor\": \"white\", \"linecolor\": \"white\", \"minorgridcolor\": \"white\", \"startlinecolor\": \"#2a3f5f\"}, \"baxis\": {\"endlinecolor\": \"#2a3f5f\", \"gridcolor\": \"white\", \"linecolor\": \"white\", \"minorgridcolor\": \"white\", \"startlinecolor\": \"#2a3f5f\"}, \"type\": \"carpet\"}], \"choropleth\": [{\"colorbar\": {\"outlinewidth\": 0, \"ticks\": \"\"}, \"type\": \"choropleth\"}], \"contour\": [{\"colorbar\": {\"outlinewidth\": 0, \"ticks\": \"\"}, \"colorscale\": [[0.0, \"#0d0887\"], [0.1111111111111111, \"#46039f\"], [0.2222222222222222, \"#7201a8\"], [0.3333333333333333, \"#9c179e\"], [0.4444444444444444, \"#bd3786\"], [0.5555555555555556, \"#d8576b\"], [0.6666666666666666, \"#ed7953\"], [0.7777777777777778, \"#fb9f3a\"], [0.8888888888888888, \"#fdca26\"], [1.0, \"#f0f921\"]], \"type\": \"contour\"}], \"contourcarpet\": [{\"colorbar\": {\"outlinewidth\": 0, \"ticks\": \"\"}, \"type\": \"contourcarpet\"}], \"heatmap\": [{\"colorbar\": {\"outlinewidth\": 0, \"ticks\": \"\"}, \"colorscale\": [[0.0, \"#0d0887\"], [0.1111111111111111, \"#46039f\"], [0.2222222222222222, \"#7201a8\"], [0.3333333333333333, \"#9c179e\"], [0.4444444444444444, \"#bd3786\"], [0.5555555555555556, \"#d8576b\"], [0.6666666666666666, \"#ed7953\"], [0.7777777777777778, \"#fb9f3a\"], [0.8888888888888888, \"#fdca26\"], [1.0, \"#f0f921\"]], \"type\": \"heatmap\"}], \"heatmapgl\": [{\"colorbar\": {\"outlinewidth\": 0, \"ticks\": \"\"}, \"colorscale\": [[0.0, \"#0d0887\"], [0.1111111111111111, \"#46039f\"], [0.2222222222222222, \"#7201a8\"], [0.3333333333333333, \"#9c179e\"], [0.4444444444444444, \"#bd3786\"], [0.5555555555555556, \"#d8576b\"], [0.6666666666666666, \"#ed7953\"], [0.7777777777777778, \"#fb9f3a\"], [0.8888888888888888, \"#fdca26\"], [1.0, \"#f0f921\"]], \"type\": \"heatmapgl\"}], \"histogram\": [{\"marker\": {\"colorbar\": {\"outlinewidth\": 0, \"ticks\": \"\"}}, \"type\": \"histogram\"}], \"histogram2d\": [{\"colorbar\": {\"outlinewidth\": 0, \"ticks\": \"\"}, \"colorscale\": [[0.0, \"#0d0887\"], [0.1111111111111111, \"#46039f\"], [0.2222222222222222, \"#7201a8\"], [0.3333333333333333, \"#9c179e\"], [0.4444444444444444, \"#bd3786\"], [0.5555555555555556, \"#d8576b\"], [0.6666666666666666, \"#ed7953\"], [0.7777777777777778, \"#fb9f3a\"], [0.8888888888888888, \"#fdca26\"], [1.0, \"#f0f921\"]], \"type\": \"histogram2d\"}], \"histogram2dcontour\": [{\"colorbar\": {\"outlinewidth\": 0, \"ticks\": \"\"}, \"colorscale\": [[0.0, \"#0d0887\"], [0.1111111111111111, \"#46039f\"], [0.2222222222222222, \"#7201a8\"], [0.3333333333333333, \"#9c179e\"], [0.4444444444444444, \"#bd3786\"], [0.5555555555555556, \"#d8576b\"], [0.6666666666666666, \"#ed7953\"], [0.7777777777777778, \"#fb9f3a\"], [0.8888888888888888, \"#fdca26\"], [1.0, \"#f0f921\"]], \"type\": \"histogram2dcontour\"}], \"mesh3d\": [{\"colorbar\": {\"outlinewidth\": 0, \"ticks\": \"\"}, \"type\": \"mesh3d\"}], \"parcoords\": [{\"line\": {\"colorbar\": {\"outlinewidth\": 0, \"ticks\": \"\"}}, \"type\": \"parcoords\"}], \"pie\": [{\"automargin\": true, \"type\": \"pie\"}], \"scatter\": [{\"marker\": {\"colorbar\": {\"outlinewidth\": 0, \"ticks\": \"\"}}, \"type\": \"scatter\"}], \"scatter3d\": [{\"line\": {\"colorbar\": {\"outlinewidth\": 0, \"ticks\": \"\"}}, \"marker\": {\"colorbar\": {\"outlinewidth\": 0, \"ticks\": \"\"}}, \"type\": \"scatter3d\"}], \"scattercarpet\": [{\"marker\": {\"colorbar\": {\"outlinewidth\": 0, \"ticks\": \"\"}}, \"type\": \"scattercarpet\"}], \"scattergeo\": [{\"marker\": {\"colorbar\": {\"outlinewidth\": 0, \"ticks\": \"\"}}, \"type\": \"scattergeo\"}], \"scattergl\": [{\"marker\": {\"colorbar\": {\"outlinewidth\": 0, \"ticks\": \"\"}}, \"type\": \"scattergl\"}], \"scattermapbox\": [{\"marker\": {\"colorbar\": {\"outlinewidth\": 0, \"ticks\": \"\"}}, \"type\": \"scattermapbox\"}], \"scatterpolar\": [{\"marker\": {\"colorbar\": {\"outlinewidth\": 0, \"ticks\": \"\"}}, \"type\": \"scatterpolar\"}], \"scatterpolargl\": [{\"marker\": {\"colorbar\": {\"outlinewidth\": 0, \"ticks\": \"\"}}, \"type\": \"scatterpolargl\"}], \"scatterternary\": [{\"marker\": {\"colorbar\": {\"outlinewidth\": 0, \"ticks\": \"\"}}, \"type\": \"scatterternary\"}], \"surface\": [{\"colorbar\": {\"outlinewidth\": 0, \"ticks\": \"\"}, \"colorscale\": [[0.0, \"#0d0887\"], [0.1111111111111111, \"#46039f\"], [0.2222222222222222, \"#7201a8\"], [0.3333333333333333, \"#9c179e\"], [0.4444444444444444, \"#bd3786\"], [0.5555555555555556, \"#d8576b\"], [0.6666666666666666, \"#ed7953\"], [0.7777777777777778, \"#fb9f3a\"], [0.8888888888888888, \"#fdca26\"], [1.0, \"#f0f921\"]], \"type\": \"surface\"}], \"table\": [{\"cells\": {\"fill\": {\"color\": \"#EBF0F8\"}, \"line\": {\"color\": \"white\"}}, \"header\": {\"fill\": {\"color\": \"#C8D4E3\"}, \"line\": {\"color\": \"white\"}}, \"type\": \"table\"}]}, \"layout\": {\"annotationdefaults\": {\"arrowcolor\": \"#2a3f5f\", \"arrowhead\": 0, \"arrowwidth\": 1}, \"coloraxis\": {\"colorbar\": {\"outlinewidth\": 0, \"ticks\": \"\"}}, \"colorscale\": {\"diverging\": [[0, \"#8e0152\"], [0.1, \"#c51b7d\"], [0.2, \"#de77ae\"], [0.3, \"#f1b6da\"], [0.4, \"#fde0ef\"], [0.5, \"#f7f7f7\"], [0.6, \"#e6f5d0\"], [0.7, \"#b8e186\"], [0.8, \"#7fbc41\"], [0.9, \"#4d9221\"], [1, \"#276419\"]], \"sequential\": [[0.0, \"#0d0887\"], [0.1111111111111111, \"#46039f\"], [0.2222222222222222, \"#7201a8\"], [0.3333333333333333, \"#9c179e\"], [0.4444444444444444, \"#bd3786\"], [0.5555555555555556, \"#d8576b\"], [0.6666666666666666, \"#ed7953\"], [0.7777777777777778, \"#fb9f3a\"], [0.8888888888888888, \"#fdca26\"], [1.0, \"#f0f921\"]], \"sequentialminus\": [[0.0, \"#0d0887\"], [0.1111111111111111, \"#46039f\"], [0.2222222222222222, \"#7201a8\"], [0.3333333333333333, \"#9c179e\"], [0.4444444444444444, \"#bd3786\"], [0.5555555555555556, \"#d8576b\"], [0.6666666666666666, \"#ed7953\"], [0.7777777777777778, \"#fb9f3a\"], [0.8888888888888888, \"#fdca26\"], [1.0, \"#f0f921\"]]}, \"colorway\": [\"#636efa\", \"#EF553B\", \"#00cc96\", \"#ab63fa\", \"#FFA15A\", \"#19d3f3\", \"#FF6692\", \"#B6E880\", \"#FF97FF\", \"#FECB52\"], \"font\": {\"color\": \"#2a3f5f\"}, \"geo\": {\"bgcolor\": \"white\", \"lakecolor\": \"white\", \"landcolor\": \"#E5ECF6\", \"showlakes\": true, \"showland\": true, \"subunitcolor\": \"white\"}, \"hoverlabel\": {\"align\": \"left\"}, \"hovermode\": \"closest\", \"mapbox\": {\"style\": \"light\"}, \"paper_bgcolor\": \"white\", \"plot_bgcolor\": \"#E5ECF6\", \"polar\": {\"angularaxis\": {\"gridcolor\": \"white\", \"linecolor\": \"white\", \"ticks\": \"\"}, \"bgcolor\": \"#E5ECF6\", \"radialaxis\": {\"gridcolor\": \"white\", \"linecolor\": \"white\", \"ticks\": \"\"}}, \"scene\": {\"xaxis\": {\"backgroundcolor\": \"#E5ECF6\", \"gridcolor\": \"white\", \"gridwidth\": 2, \"linecolor\": \"white\", \"showbackground\": true, \"ticks\": \"\", \"zerolinecolor\": \"white\"}, \"yaxis\": {\"backgroundcolor\": \"#E5ECF6\", \"gridcolor\": \"white\", \"gridwidth\": 2, \"linecolor\": \"white\", \"showbackground\": true, \"ticks\": \"\", \"zerolinecolor\": \"white\"}, \"zaxis\": {\"backgroundcolor\": \"#E5ECF6\", \"gridcolor\": \"white\", \"gridwidth\": 2, \"linecolor\": \"white\", \"showbackground\": true, \"ticks\": \"\", \"zerolinecolor\": \"white\"}}, \"shapedefaults\": {\"line\": {\"color\": \"#2a3f5f\"}}, \"ternary\": {\"aaxis\": {\"gridcolor\": \"white\", \"linecolor\": \"white\", \"ticks\": \"\"}, \"baxis\": {\"gridcolor\": \"white\", \"linecolor\": \"white\", \"ticks\": \"\"}, \"bgcolor\": \"#E5ECF6\", \"caxis\": {\"gridcolor\": \"white\", \"linecolor\": \"white\", \"ticks\": \"\"}}, \"title\": {\"x\": 0.05}, \"xaxis\": {\"automargin\": true, \"gridcolor\": \"white\", \"linecolor\": \"white\", \"ticks\": \"\", \"title\": {\"standoff\": 15}, \"zerolinecolor\": \"white\", \"zerolinewidth\": 2}, \"yaxis\": {\"automargin\": true, \"gridcolor\": \"white\", \"linecolor\": \"white\", \"ticks\": \"\", \"title\": {\"standoff\": 15}, \"zerolinecolor\": \"white\", \"zerolinewidth\": 2}}}, \"title\": {\"text\": \"Contour Plot\"}, \"xaxis\": {\"range\": [0.16728200128349419, 1.5519181945196137], \"title\": {\"text\": \"max_depth\"}, \"type\": \"log\"}, \"yaxis\": {\"range\": [1.15, 19.85], \"title\": {\"text\": \"n_estimators\"}}},\n",
              "                        {\"responsive\": true}\n",
              "                    ).then(function(){\n",
              "                            \n",
              "var gd = document.getElementById('5f167dc7-4390-4abd-a019-54a1d43c7dbe');\n",
              "var x = new MutationObserver(function (mutations, observer) {{\n",
              "        var display = window.getComputedStyle(gd).display;\n",
              "        if (!display || display === 'none') {{\n",
              "            console.log([gd, 'removed!']);\n",
              "            Plotly.purge(gd);\n",
              "            observer.disconnect();\n",
              "        }}\n",
              "}});\n",
              "\n",
              "// Listen for the removal of the full notebook cells\n",
              "var notebookContainer = gd.closest('#notebook-container');\n",
              "if (notebookContainer) {{\n",
              "    x.observe(notebookContainer, {childList: true});\n",
              "}}\n",
              "\n",
              "// Listen for the clearing of the current output cell\n",
              "var outputEl = gd.closest('.output');\n",
              "if (outputEl) {{\n",
              "    x.observe(outputEl, {childList: true});\n",
              "}}\n",
              "\n",
              "                        })\n",
              "                };\n",
              "                \n",
              "            </script>\n",
              "        </div>\n",
              "</body>\n",
              "</html>"
            ]
          },
          "metadata": {
            "tags": []
          }
        }
      ]
    }
  ]
}